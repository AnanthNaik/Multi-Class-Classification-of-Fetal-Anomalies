{
  "nbformat": 4,
  "nbformat_minor": 0,
  "metadata": {
    "colab": {
      "provenance": [],
      "gpuType": "T4"
    },
    "kernelspec": {
      "name": "python3",
      "display_name": "Python 3"
    },
    "language_info": {
      "name": "python"
    },
    "accelerator": "GPU"
  },
  "cells": [
    {
      "cell_type": "code",
      "source": [
        "!pip install tensorflow"
      ],
      "metadata": {
        "colab": {
          "base_uri": "https://localhost:8080/"
        },
        "id": "kcXq8kHIQYbL",
        "outputId": "e55c351b-1c78-4b33-8495-b91b9625ac25"
      },
      "execution_count": null,
      "outputs": [
        {
          "output_type": "stream",
          "name": "stdout",
          "text": [
            "Requirement already satisfied: tensorflow in /usr/local/lib/python3.11/dist-packages (2.18.0)\n",
            "Requirement already satisfied: absl-py>=1.0.0 in /usr/local/lib/python3.11/dist-packages (from tensorflow) (1.4.0)\n",
            "Requirement already satisfied: astunparse>=1.6.0 in /usr/local/lib/python3.11/dist-packages (from tensorflow) (1.6.3)\n",
            "Requirement already satisfied: flatbuffers>=24.3.25 in /usr/local/lib/python3.11/dist-packages (from tensorflow) (25.2.10)\n",
            "Requirement already satisfied: gast!=0.5.0,!=0.5.1,!=0.5.2,>=0.2.1 in /usr/local/lib/python3.11/dist-packages (from tensorflow) (0.6.0)\n",
            "Requirement already satisfied: google-pasta>=0.1.1 in /usr/local/lib/python3.11/dist-packages (from tensorflow) (0.2.0)\n",
            "Requirement already satisfied: libclang>=13.0.0 in /usr/local/lib/python3.11/dist-packages (from tensorflow) (18.1.1)\n",
            "Requirement already satisfied: opt-einsum>=2.3.2 in /usr/local/lib/python3.11/dist-packages (from tensorflow) (3.4.0)\n",
            "Requirement already satisfied: packaging in /usr/local/lib/python3.11/dist-packages (from tensorflow) (24.2)\n",
            "Requirement already satisfied: protobuf!=4.21.0,!=4.21.1,!=4.21.2,!=4.21.3,!=4.21.4,!=4.21.5,<6.0.0dev,>=3.20.3 in /usr/local/lib/python3.11/dist-packages (from tensorflow) (5.29.4)\n",
            "Requirement already satisfied: requests<3,>=2.21.0 in /usr/local/lib/python3.11/dist-packages (from tensorflow) (2.32.3)\n",
            "Requirement already satisfied: setuptools in /usr/local/lib/python3.11/dist-packages (from tensorflow) (75.2.0)\n",
            "Requirement already satisfied: six>=1.12.0 in /usr/local/lib/python3.11/dist-packages (from tensorflow) (1.17.0)\n",
            "Requirement already satisfied: termcolor>=1.1.0 in /usr/local/lib/python3.11/dist-packages (from tensorflow) (3.0.1)\n",
            "Requirement already satisfied: typing-extensions>=3.6.6 in /usr/local/lib/python3.11/dist-packages (from tensorflow) (4.13.2)\n",
            "Requirement already satisfied: wrapt>=1.11.0 in /usr/local/lib/python3.11/dist-packages (from tensorflow) (1.17.2)\n",
            "Requirement already satisfied: grpcio<2.0,>=1.24.3 in /usr/local/lib/python3.11/dist-packages (from tensorflow) (1.71.0)\n",
            "Requirement already satisfied: tensorboard<2.19,>=2.18 in /usr/local/lib/python3.11/dist-packages (from tensorflow) (2.18.0)\n",
            "Requirement already satisfied: keras>=3.5.0 in /usr/local/lib/python3.11/dist-packages (from tensorflow) (3.8.0)\n",
            "Requirement already satisfied: numpy<2.1.0,>=1.26.0 in /usr/local/lib/python3.11/dist-packages (from tensorflow) (2.0.2)\n",
            "Requirement already satisfied: h5py>=3.11.0 in /usr/local/lib/python3.11/dist-packages (from tensorflow) (3.13.0)\n",
            "Requirement already satisfied: ml-dtypes<0.5.0,>=0.4.0 in /usr/local/lib/python3.11/dist-packages (from tensorflow) (0.4.1)\n",
            "Requirement already satisfied: tensorflow-io-gcs-filesystem>=0.23.1 in /usr/local/lib/python3.11/dist-packages (from tensorflow) (0.37.1)\n",
            "Requirement already satisfied: wheel<1.0,>=0.23.0 in /usr/local/lib/python3.11/dist-packages (from astunparse>=1.6.0->tensorflow) (0.45.1)\n",
            "Requirement already satisfied: rich in /usr/local/lib/python3.11/dist-packages (from keras>=3.5.0->tensorflow) (13.9.4)\n",
            "Requirement already satisfied: namex in /usr/local/lib/python3.11/dist-packages (from keras>=3.5.0->tensorflow) (0.0.9)\n",
            "Requirement already satisfied: optree in /usr/local/lib/python3.11/dist-packages (from keras>=3.5.0->tensorflow) (0.15.0)\n",
            "Requirement already satisfied: charset-normalizer<4,>=2 in /usr/local/lib/python3.11/dist-packages (from requests<3,>=2.21.0->tensorflow) (3.4.1)\n",
            "Requirement already satisfied: idna<4,>=2.5 in /usr/local/lib/python3.11/dist-packages (from requests<3,>=2.21.0->tensorflow) (3.10)\n",
            "Requirement already satisfied: urllib3<3,>=1.21.1 in /usr/local/lib/python3.11/dist-packages (from requests<3,>=2.21.0->tensorflow) (2.4.0)\n",
            "Requirement already satisfied: certifi>=2017.4.17 in /usr/local/lib/python3.11/dist-packages (from requests<3,>=2.21.0->tensorflow) (2025.4.26)\n",
            "Requirement already satisfied: markdown>=2.6.8 in /usr/local/lib/python3.11/dist-packages (from tensorboard<2.19,>=2.18->tensorflow) (3.8)\n",
            "Requirement already satisfied: tensorboard-data-server<0.8.0,>=0.7.0 in /usr/local/lib/python3.11/dist-packages (from tensorboard<2.19,>=2.18->tensorflow) (0.7.2)\n",
            "Requirement already satisfied: werkzeug>=1.0.1 in /usr/local/lib/python3.11/dist-packages (from tensorboard<2.19,>=2.18->tensorflow) (3.1.3)\n",
            "Requirement already satisfied: MarkupSafe>=2.1.1 in /usr/local/lib/python3.11/dist-packages (from werkzeug>=1.0.1->tensorboard<2.19,>=2.18->tensorflow) (3.0.2)\n",
            "Requirement already satisfied: markdown-it-py>=2.2.0 in /usr/local/lib/python3.11/dist-packages (from rich->keras>=3.5.0->tensorflow) (3.0.0)\n",
            "Requirement already satisfied: pygments<3.0.0,>=2.13.0 in /usr/local/lib/python3.11/dist-packages (from rich->keras>=3.5.0->tensorflow) (2.19.1)\n",
            "Requirement already satisfied: mdurl~=0.1 in /usr/local/lib/python3.11/dist-packages (from markdown-it-py>=2.2.0->rich->keras>=3.5.0->tensorflow) (0.1.2)\n"
          ]
        }
      ]
    },
    {
      "cell_type": "code",
      "execution_count": null,
      "metadata": {
        "id": "6Zrq0XCMJm5y"
      },
      "outputs": [],
      "source": [
        "#Importing Libraries\n",
        "import os\n",
        "import numpy as np\n",
        "import pandas as pd\n",
        "import tensorflow as tf\n",
        "from tensorflow import keras\n",
        "from tensorflow.keras import layers, models\n",
        "from sklearn.model_selection import train_test_split\n",
        "from sklearn.metrics import classification_report, accuracy_score\n",
        "from imblearn.over_sampling import SMOTE"
      ]
    },
    {
      "cell_type": "code",
      "source": [
        "# Dataset Paths\n",
        "data_folder = \"/content/drive/MyDrive/Dataset/Signals_KNN\"\n",
        "ctu_df_path = \"/content/drive/MyDrive/Dataset/ctu_df.csv\""
      ],
      "metadata": {
        "id": "cdikuw7jFaUO"
      },
      "execution_count": null,
      "outputs": []
    },
    {
      "cell_type": "code",
      "source": [
        "# Parameters\n",
        "sequence_length = 3000\n",
        "feature_dim = 2"
      ],
      "metadata": {
        "id": "9z4zsMvbHPM4"
      },
      "execution_count": null,
      "outputs": []
    },
    {
      "cell_type": "code",
      "source": [
        "# Load annotation file\n",
        "ctu_df = pd.read_csv(ctu_df_path, dtype={'ID': str})  # Taking ID as a string\n",
        "valid_ids = set(ctu_df['ID'].values)"
      ],
      "metadata": {
        "id": "lcc-38OeHY9w"
      },
      "execution_count": null,
      "outputs": []
    },
    {
      "cell_type": "code",
      "source": [
        "X_list = []\n",
        "y_list = []"
      ],
      "metadata": {
        "id": "73-40OkmHZjC"
      },
      "execution_count": null,
      "outputs": []
    },
    {
      "cell_type": "code",
      "source": [
        "# Processing each CSV file(552 files)\n",
        "for file in sorted(os.listdir(data_folder)):\n",
        "    if file.endswith(\".csv\"):\n",
        "        file_id = file[:-8]  # Removing \".csv\" to get ID\n",
        "        if file_id not in valid_ids:\n",
        "            continue  # Skip files not in ctu_df\n",
        "\n",
        "        # Read CSV (only FHR, UC columns)\n",
        "        df = pd.read_csv(os.path.join(data_folder, file), usecols=['FHR_KNN', 'UC_KNN'])\n",
        "        df.dropna(inplace=True)\n",
        "\n",
        "        # Ensure enough data points\n",
        "        if len(df) < sequence_length:\n",
        "            print(f\"Skipping {file}, not enough data.\")\n",
        "            continue\n",
        "\n",
        "        # Select the first `sequence_length` rows\n",
        "        sequence = df.iloc[:sequence_length].values\n",
        "        X_list.append(sequence)\n",
        "\n",
        "        # Assign label from ctu_df\n",
        "        y_list.append(ctu_df.loc[ctu_df['ID'] == file_id, 'target'].values[0])\n"
      ],
      "metadata": {
        "id": "7mSVuLrUHbl5"
      },
      "execution_count": null,
      "outputs": []
    },
    {
      "cell_type": "code",
      "source": [
        "# Convert lists to NumPy arrays\n",
        "X = np.array(X_list, dtype=np.float32)\n",
        "y = np.array(y_list, dtype=np.int8)\n",
        "\n",
        "print(f\"Final input shape: {X.shape}\")  # Should be (552, sequence_length, 2)\n",
        "print(f\"Final output shape: {y.shape}\")  # Should be (552,)\n",
        "\n",
        "# Save for training\n",
        "np.save(\"X.npy\", X)\n",
        "np.save(\"y.npy\", y)"
      ],
      "metadata": {
        "colab": {
          "base_uri": "https://localhost:8080/"
        },
        "id": "ERGcxT9qHeMy",
        "outputId": "646eddb8-9d98-4dc6-bd08-f248ec1e39f2"
      },
      "execution_count": null,
      "outputs": [
        {
          "output_type": "stream",
          "name": "stdout",
          "text": [
            "Final input shape: (552, 3000, 2)\n",
            "Final output shape: (552,)\n"
          ]
        }
      ]
    },
    {
      "cell_type": "code",
      "source": [
        "# Flatten X for SMOTE (Convert 3D -> 2D)\n",
        "n_samples, sequence_length, num_features = X.shape\n",
        "X_flat = X.reshape(n_samples, sequence_length * num_features)"
      ],
      "metadata": {
        "id": "bSGxhwKBNYa1"
      },
      "execution_count": null,
      "outputs": []
    },
    {
      "cell_type": "code",
      "source": [
        "# Apply SMOTE\n",
        "smote = SMOTE(sampling_strategy='auto', random_state=42)\n",
        "X_resampled, y_resampled = smote.fit_resample(X_flat, y)"
      ],
      "metadata": {
        "id": "nNgJMxCnNdW5"
      },
      "execution_count": null,
      "outputs": []
    },
    {
      "cell_type": "code",
      "source": [
        "# Reshape X back to 3D (time series format)\n",
        "X_resampled = X_resampled.reshape(-1, sequence_length, num_features)\n",
        "print(f\"Balanced dataset shape: {X_resampled.shape}, {y_resampled.shape}\")"
      ],
      "metadata": {
        "colab": {
          "base_uri": "https://localhost:8080/"
        },
        "id": "i8GgFJHlNk20",
        "outputId": "1cc52a77-fb60-4835-cae5-b0163d012cd4"
      },
      "execution_count": null,
      "outputs": [
        {
          "output_type": "stream",
          "name": "stdout",
          "text": [
            "Balanced dataset shape: (1012, 3000, 2), (1012,)\n"
          ]
        }
      ]
    },
    {
      "cell_type": "code",
      "source": [
        "# Train-test split (80% train, 20% test)\n",
        "X_train, X_test, y_train, y_test = train_test_split(X_resampled, y_resampled, test_size=0.2, random_state=42, stratify=y_resampled)"
      ],
      "metadata": {
        "id": "MMzR50L6I9DP"
      },
      "execution_count": null,
      "outputs": []
    },
    {
      "cell_type": "code",
      "source": [
        "# LSTM Model\n",
        "def build_lstm_model(sequence_length, num_features):\n",
        "    model = keras.Sequential([\n",
        "        layers.Input(shape=(sequence_length, num_features)),\n",
        "        layers.LSTM(64, return_sequences=True),\n",
        "        layers.LSTM(32),\n",
        "        layers.Dense(32, activation=\"relu\"),\n",
        "        layers.Dropout(0.2),\n",
        "        layers.Dense(1, activation=\"sigmoid\")  # Binary classification\n",
        "    ])\n",
        "    return model"
      ],
      "metadata": {
        "id": "TMSmDt6gJCvu"
      },
      "execution_count": null,
      "outputs": []
    },
    {
      "cell_type": "code",
      "source": [
        "# Compiling the model\n",
        "model = build_lstm_model(sequence_length, num_features)\n",
        "model.compile(optimizer=keras.optimizers.Adam(learning_rate=0.001), loss=\"binary_crossentropy\", metrics=[\"accuracy\"])"
      ],
      "metadata": {
        "id": "5vOK0xdbJJy1"
      },
      "execution_count": null,
      "outputs": []
    },
    {
      "cell_type": "code",
      "source": [
        "# Train Model\n",
        "history = model.fit(X_train, y_train, validation_data=(X_test, y_test), epochs=50, batch_size=16, verbose=1)"
      ],
      "metadata": {
        "colab": {
          "base_uri": "https://localhost:8080/"
        },
        "id": "O1ZV8idtJSKg",
        "outputId": "755c6b31-4137-4e07-b0d7-8b3c91d1ee9d"
      },
      "execution_count": null,
      "outputs": [
        {
          "output_type": "stream",
          "name": "stdout",
          "text": [
            "Epoch 1/50\n",
            "\u001b[1m51/51\u001b[0m \u001b[32m━━━━━━━━━━━━━━━━━━━━\u001b[0m\u001b[37m\u001b[0m \u001b[1m13s\u001b[0m 147ms/step - accuracy: 0.4778 - loss: 0.6997 - val_accuracy: 0.5517 - val_loss: 0.6885\n",
            "Epoch 2/50\n",
            "\u001b[1m51/51\u001b[0m \u001b[32m━━━━━━━━━━━━━━━━━━━━\u001b[0m\u001b[37m\u001b[0m \u001b[1m8s\u001b[0m 151ms/step - accuracy: 0.5476 - loss: 0.6873 - val_accuracy: 0.5616 - val_loss: 0.6807\n",
            "Epoch 3/50\n",
            "\u001b[1m51/51\u001b[0m \u001b[32m━━━━━━━━━━━━━━━━━━━━\u001b[0m\u001b[37m\u001b[0m \u001b[1m8s\u001b[0m 153ms/step - accuracy: 0.5347 - loss: 0.6803 - val_accuracy: 0.5813 - val_loss: 0.6686\n",
            "Epoch 4/50\n",
            "\u001b[1m51/51\u001b[0m \u001b[32m━━━━━━━━━━━━━━━━━━━━\u001b[0m\u001b[37m\u001b[0m \u001b[1m9s\u001b[0m 135ms/step - accuracy: 0.5631 - loss: 0.6684 - val_accuracy: 0.5665 - val_loss: 0.6621\n",
            "Epoch 5/50\n",
            "\u001b[1m51/51\u001b[0m \u001b[32m━━━━━━━━━━━━━━━━━━━━\u001b[0m\u001b[37m\u001b[0m \u001b[1m8s\u001b[0m 167ms/step - accuracy: 0.6356 - loss: 0.6551 - val_accuracy: 0.5911 - val_loss: 0.6682\n",
            "Epoch 6/50\n",
            "\u001b[1m51/51\u001b[0m \u001b[32m━━━━━━━━━━━━━━━━━━━━\u001b[0m\u001b[37m\u001b[0m \u001b[1m10s\u001b[0m 152ms/step - accuracy: 0.5760 - loss: 0.6665 - val_accuracy: 0.5862 - val_loss: 0.6628\n",
            "Epoch 7/50\n",
            "\u001b[1m51/51\u001b[0m \u001b[32m━━━━━━━━━━━━━━━━━━━━\u001b[0m\u001b[37m\u001b[0m \u001b[1m9s\u001b[0m 135ms/step - accuracy: 0.6270 - loss: 0.6358 - val_accuracy: 0.6158 - val_loss: 0.6550\n",
            "Epoch 8/50\n",
            "\u001b[1m51/51\u001b[0m \u001b[32m━━━━━━━━━━━━━━━━━━━━\u001b[0m\u001b[37m\u001b[0m \u001b[1m10s\u001b[0m 135ms/step - accuracy: 0.6759 - loss: 0.6228 - val_accuracy: 0.6059 - val_loss: 0.6642\n",
            "Epoch 9/50\n",
            "\u001b[1m51/51\u001b[0m \u001b[32m━━━━━━━━━━━━━━━━━━━━\u001b[0m\u001b[37m\u001b[0m \u001b[1m11s\u001b[0m 148ms/step - accuracy: 0.6667 - loss: 0.6158 - val_accuracy: 0.5911 - val_loss: 0.6727\n",
            "Epoch 10/50\n",
            "\u001b[1m51/51\u001b[0m \u001b[32m━━━━━━━━━━━━━━━━━━━━\u001b[0m\u001b[37m\u001b[0m \u001b[1m10s\u001b[0m 153ms/step - accuracy: 0.6446 - loss: 0.6304 - val_accuracy: 0.6158 - val_loss: 0.6554\n",
            "Epoch 11/50\n",
            "\u001b[1m51/51\u001b[0m \u001b[32m━━━━━━━━━━━━━━━━━━━━\u001b[0m\u001b[37m\u001b[0m \u001b[1m11s\u001b[0m 162ms/step - accuracy: 0.6790 - loss: 0.6150 - val_accuracy: 0.5961 - val_loss: 0.6605\n",
            "Epoch 12/50\n",
            "\u001b[1m51/51\u001b[0m \u001b[32m━━━━━━━━━━━━━━━━━━━━\u001b[0m\u001b[37m\u001b[0m \u001b[1m9s\u001b[0m 147ms/step - accuracy: 0.6510 - loss: 0.6299 - val_accuracy: 0.6108 - val_loss: 0.6468\n",
            "Epoch 13/50\n",
            "\u001b[1m51/51\u001b[0m \u001b[32m━━━━━━━━━━━━━━━━━━━━\u001b[0m\u001b[37m\u001b[0m \u001b[1m10s\u001b[0m 136ms/step - accuracy: 0.6602 - loss: 0.6112 - val_accuracy: 0.6010 - val_loss: 0.6657\n",
            "Epoch 14/50\n",
            "\u001b[1m51/51\u001b[0m \u001b[32m━━━━━━━━━━━━━━━━━━━━\u001b[0m\u001b[37m\u001b[0m \u001b[1m11s\u001b[0m 148ms/step - accuracy: 0.6783 - loss: 0.6069 - val_accuracy: 0.6158 - val_loss: 0.6592\n",
            "Epoch 15/50\n",
            "\u001b[1m51/51\u001b[0m \u001b[32m━━━━━━━━━━━━━━━━━━━━\u001b[0m\u001b[37m\u001b[0m \u001b[1m11s\u001b[0m 162ms/step - accuracy: 0.6718 - loss: 0.6075 - val_accuracy: 0.6059 - val_loss: 0.6420\n",
            "Epoch 16/50\n",
            "\u001b[1m51/51\u001b[0m \u001b[32m━━━━━━━━━━━━━━━━━━━━\u001b[0m\u001b[37m\u001b[0m \u001b[1m10s\u001b[0m 164ms/step - accuracy: 0.6715 - loss: 0.5940 - val_accuracy: 0.6207 - val_loss: 0.6487\n",
            "Epoch 17/50\n",
            "\u001b[1m51/51\u001b[0m \u001b[32m━━━━━━━━━━━━━━━━━━━━\u001b[0m\u001b[37m\u001b[0m \u001b[1m9s\u001b[0m 141ms/step - accuracy: 0.6593 - loss: 0.6144 - val_accuracy: 0.5862 - val_loss: 0.6706\n",
            "Epoch 18/50\n",
            "\u001b[1m51/51\u001b[0m \u001b[32m━━━━━━━━━━━━━━━━━━━━\u001b[0m\u001b[37m\u001b[0m \u001b[1m10s\u001b[0m 136ms/step - accuracy: 0.7007 - loss: 0.5787 - val_accuracy: 0.6158 - val_loss: 0.6495\n",
            "Epoch 19/50\n",
            "\u001b[1m51/51\u001b[0m \u001b[32m━━━━━━━━━━━━━━━━━━━━\u001b[0m\u001b[37m\u001b[0m \u001b[1m10s\u001b[0m 135ms/step - accuracy: 0.6649 - loss: 0.6038 - val_accuracy: 0.5517 - val_loss: 0.6529\n",
            "Epoch 20/50\n",
            "\u001b[1m51/51\u001b[0m \u001b[32m━━━━━━━━━━━━━━━━━━━━\u001b[0m\u001b[37m\u001b[0m \u001b[1m11s\u001b[0m 148ms/step - accuracy: 0.6849 - loss: 0.5856 - val_accuracy: 0.5911 - val_loss: 0.6338\n",
            "Epoch 21/50\n",
            "\u001b[1m51/51\u001b[0m \u001b[32m━━━━━━━━━━━━━━━━━━━━\u001b[0m\u001b[37m\u001b[0m \u001b[1m10s\u001b[0m 154ms/step - accuracy: 0.7068 - loss: 0.5776 - val_accuracy: 0.6256 - val_loss: 0.6460\n",
            "Epoch 22/50\n",
            "\u001b[1m51/51\u001b[0m \u001b[32m━━━━━━━━━━━━━━━━━━━━\u001b[0m\u001b[37m\u001b[0m \u001b[1m10s\u001b[0m 154ms/step - accuracy: 0.7132 - loss: 0.5651 - val_accuracy: 0.6207 - val_loss: 0.6442\n",
            "Epoch 23/50\n",
            "\u001b[1m51/51\u001b[0m \u001b[32m━━━━━━━━━━━━━━━━━━━━\u001b[0m\u001b[37m\u001b[0m \u001b[1m7s\u001b[0m 136ms/step - accuracy: 0.6996 - loss: 0.5633 - val_accuracy: 0.6010 - val_loss: 0.6557\n",
            "Epoch 24/50\n",
            "\u001b[1m51/51\u001b[0m \u001b[32m━━━━━━━━━━━━━━━━━━━━\u001b[0m\u001b[37m\u001b[0m \u001b[1m8s\u001b[0m 164ms/step - accuracy: 0.6746 - loss: 0.5884 - val_accuracy: 0.6059 - val_loss: 0.6862\n",
            "Epoch 25/50\n",
            "\u001b[1m51/51\u001b[0m \u001b[32m━━━━━━━━━━━━━━━━━━━━\u001b[0m\u001b[37m\u001b[0m \u001b[1m9s\u001b[0m 146ms/step - accuracy: 0.6878 - loss: 0.5688 - val_accuracy: 0.5911 - val_loss: 0.6733\n",
            "Epoch 26/50\n",
            "\u001b[1m51/51\u001b[0m \u001b[32m━━━━━━━━━━━━━━━━━━━━\u001b[0m\u001b[37m\u001b[0m \u001b[1m10s\u001b[0m 135ms/step - accuracy: 0.7018 - loss: 0.5680 - val_accuracy: 0.6108 - val_loss: 0.6550\n",
            "Epoch 27/50\n",
            "\u001b[1m51/51\u001b[0m \u001b[32m━━━━━━━━━━━━━━━━━━━━\u001b[0m\u001b[37m\u001b[0m \u001b[1m10s\u001b[0m 135ms/step - accuracy: 0.7247 - loss: 0.5342 - val_accuracy: 0.6355 - val_loss: 0.6426\n",
            "Epoch 28/50\n",
            "\u001b[1m51/51\u001b[0m \u001b[32m━━━━━━━━━━━━━━━━━━━━\u001b[0m\u001b[37m\u001b[0m \u001b[1m11s\u001b[0m 160ms/step - accuracy: 0.7401 - loss: 0.5428 - val_accuracy: 0.6158 - val_loss: 0.6435\n",
            "Epoch 29/50\n",
            "\u001b[1m51/51\u001b[0m \u001b[32m━━━━━━━━━━━━━━━━━━━━\u001b[0m\u001b[37m\u001b[0m \u001b[1m8s\u001b[0m 152ms/step - accuracy: 0.7304 - loss: 0.5375 - val_accuracy: 0.5911 - val_loss: 0.6539\n",
            "Epoch 30/50\n",
            "\u001b[1m51/51\u001b[0m \u001b[32m━━━━━━━━━━━━━━━━━━━━\u001b[0m\u001b[37m\u001b[0m \u001b[1m10s\u001b[0m 146ms/step - accuracy: 0.7350 - loss: 0.5539 - val_accuracy: 0.6256 - val_loss: 0.6611\n",
            "Epoch 31/50\n",
            "\u001b[1m51/51\u001b[0m \u001b[32m━━━━━━━━━━━━━━━━━━━━\u001b[0m\u001b[37m\u001b[0m \u001b[1m10s\u001b[0m 136ms/step - accuracy: 0.7362 - loss: 0.5399 - val_accuracy: 0.6256 - val_loss: 0.6821\n",
            "Epoch 32/50\n",
            "\u001b[1m51/51\u001b[0m \u001b[32m━━━━━━━━━━━━━━━━━━━━\u001b[0m\u001b[37m\u001b[0m \u001b[1m10s\u001b[0m 141ms/step - accuracy: 0.7254 - loss: 0.5404 - val_accuracy: 0.6207 - val_loss: 0.6953\n",
            "Epoch 33/50\n",
            "\u001b[1m51/51\u001b[0m \u001b[32m━━━━━━━━━━━━━━━━━━━━\u001b[0m\u001b[37m\u001b[0m \u001b[1m11s\u001b[0m 155ms/step - accuracy: 0.7256 - loss: 0.5382 - val_accuracy: 0.6502 - val_loss: 0.6634\n",
            "Epoch 34/50\n",
            "\u001b[1m51/51\u001b[0m \u001b[32m━━━━━━━━━━━━━━━━━━━━\u001b[0m\u001b[37m\u001b[0m \u001b[1m10s\u001b[0m 153ms/step - accuracy: 0.7638 - loss: 0.5068 - val_accuracy: 0.6059 - val_loss: 0.6982\n",
            "Epoch 35/50\n",
            "\u001b[1m51/51\u001b[0m \u001b[32m━━━━━━━━━━━━━━━━━━━━\u001b[0m\u001b[37m\u001b[0m \u001b[1m7s\u001b[0m 133ms/step - accuracy: 0.7384 - loss: 0.5440 - val_accuracy: 0.5567 - val_loss: 0.7114\n",
            "Epoch 36/50\n",
            "\u001b[1m51/51\u001b[0m \u001b[32m━━━━━━━━━━━━━━━━━━━━\u001b[0m\u001b[37m\u001b[0m \u001b[1m8s\u001b[0m 151ms/step - accuracy: 0.7266 - loss: 0.5208 - val_accuracy: 0.6305 - val_loss: 0.6560\n",
            "Epoch 37/50\n",
            "\u001b[1m51/51\u001b[0m \u001b[32m━━━━━━━━━━━━━━━━━━━━\u001b[0m\u001b[37m\u001b[0m \u001b[1m10s\u001b[0m 155ms/step - accuracy: 0.7718 - loss: 0.5125 - val_accuracy: 0.6108 - val_loss: 0.6746\n",
            "Epoch 38/50\n",
            "\u001b[1m51/51\u001b[0m \u001b[32m━━━━━━━━━━━━━━━━━━━━\u001b[0m\u001b[37m\u001b[0m \u001b[1m7s\u001b[0m 144ms/step - accuracy: 0.7685 - loss: 0.4911 - val_accuracy: 0.6355 - val_loss: 0.6690\n",
            "Epoch 39/50\n",
            "\u001b[1m51/51\u001b[0m \u001b[32m━━━━━━━━━━━━━━━━━━━━\u001b[0m\u001b[37m\u001b[0m \u001b[1m10s\u001b[0m 146ms/step - accuracy: 0.7341 - loss: 0.5179 - val_accuracy: 0.6305 - val_loss: 0.6921\n",
            "Epoch 40/50\n",
            "\u001b[1m51/51\u001b[0m \u001b[32m━━━━━━━━━━━━━━━━━━━━\u001b[0m\u001b[37m\u001b[0m \u001b[1m10s\u001b[0m 152ms/step - accuracy: 0.7703 - loss: 0.4799 - val_accuracy: 0.6059 - val_loss: 0.6503\n",
            "Epoch 41/50\n",
            "\u001b[1m51/51\u001b[0m \u001b[32m━━━━━━━━━━━━━━━━━━━━\u001b[0m\u001b[37m\u001b[0m \u001b[1m10s\u001b[0m 145ms/step - accuracy: 0.7610 - loss: 0.5027 - val_accuracy: 0.6453 - val_loss: 0.6687\n",
            "Epoch 42/50\n",
            "\u001b[1m51/51\u001b[0m \u001b[32m━━━━━━━━━━━━━━━━━━━━\u001b[0m\u001b[37m\u001b[0m \u001b[1m10s\u001b[0m 144ms/step - accuracy: 0.7858 - loss: 0.4727 - val_accuracy: 0.6256 - val_loss: 0.6837\n",
            "Epoch 43/50\n",
            "\u001b[1m51/51\u001b[0m \u001b[32m━━━━━━━━━━━━━━━━━━━━\u001b[0m\u001b[37m\u001b[0m \u001b[1m10s\u001b[0m 134ms/step - accuracy: 0.7713 - loss: 0.4815 - val_accuracy: 0.6059 - val_loss: 0.6733\n",
            "Epoch 44/50\n",
            "\u001b[1m51/51\u001b[0m \u001b[32m━━━━━━━━━━━━━━━━━━━━\u001b[0m\u001b[37m\u001b[0m \u001b[1m11s\u001b[0m 154ms/step - accuracy: 0.7633 - loss: 0.4955 - val_accuracy: 0.5961 - val_loss: 0.6439\n",
            "Epoch 45/50\n",
            "\u001b[1m51/51\u001b[0m \u001b[32m━━━━━━━━━━━━━━━━━━━━\u001b[0m\u001b[37m\u001b[0m \u001b[1m10s\u001b[0m 150ms/step - accuracy: 0.7796 - loss: 0.4765 - val_accuracy: 0.6502 - val_loss: 0.6637\n",
            "Epoch 46/50\n",
            "\u001b[1m51/51\u001b[0m \u001b[32m━━━━━━━━━━━━━━━━━━━━\u001b[0m\u001b[37m\u001b[0m \u001b[1m7s\u001b[0m 144ms/step - accuracy: 0.7681 - loss: 0.4924 - val_accuracy: 0.6404 - val_loss: 0.6738\n",
            "Epoch 47/50\n",
            "\u001b[1m51/51\u001b[0m \u001b[32m━━━━━━━━━━━━━━━━━━━━\u001b[0m\u001b[37m\u001b[0m \u001b[1m10s\u001b[0m 133ms/step - accuracy: 0.7808 - loss: 0.4497 - val_accuracy: 0.6404 - val_loss: 0.6581\n",
            "Epoch 48/50\n",
            "\u001b[1m51/51\u001b[0m \u001b[32m━━━━━━━━━━━━━━━━━━━━\u001b[0m\u001b[37m\u001b[0m \u001b[1m11s\u001b[0m 146ms/step - accuracy: 0.7520 - loss: 0.4892 - val_accuracy: 0.6207 - val_loss: 0.6778\n",
            "Epoch 49/50\n",
            "\u001b[1m51/51\u001b[0m \u001b[32m━━━━━━━━━━━━━━━━━━━━\u001b[0m\u001b[37m\u001b[0m \u001b[1m11s\u001b[0m 163ms/step - accuracy: 0.7606 - loss: 0.4954 - val_accuracy: 0.6749 - val_loss: 0.6409\n",
            "Epoch 50/50\n",
            "\u001b[1m51/51\u001b[0m \u001b[32m━━━━━━━━━━━━━━━━━━━━\u001b[0m\u001b[37m\u001b[0m \u001b[1m10s\u001b[0m 152ms/step - accuracy: 0.7651 - loss: 0.4754 - val_accuracy: 0.6207 - val_loss: 0.7051\n"
          ]
        }
      ]
    },
    {
      "cell_type": "code",
      "source": [
        "# Evaluating the model (Calculating the model Loss and Accuracy)\n",
        "loss, accuracy = model.evaluate(X_test, y_test)\n",
        "print(f\"Test Accuracy: {accuracy:.4f}\")"
      ],
      "metadata": {
        "colab": {
          "base_uri": "https://localhost:8080/"
        },
        "id": "l0o9D8PLJ2Qk",
        "outputId": "d2655e53-b920-4e2e-a60c-c5b825d7cb72"
      },
      "execution_count": null,
      "outputs": [
        {
          "output_type": "stream",
          "name": "stdout",
          "text": [
            "\u001b[1m7/7\u001b[0m \u001b[32m━━━━━━━━━━━━━━━━━━━━\u001b[0m\u001b[37m\u001b[0m \u001b[1m1s\u001b[0m 75ms/step - accuracy: 0.6721 - loss: 0.6610\n",
            "Test Accuracy: 0.6207\n"
          ]
        }
      ]
    },
    {
      "cell_type": "code",
      "source": [
        "# Evaluate Model\n",
        "y_pred = (model.predict(X_test) > 0.5).astype(\"int32\")  # Convert probabilities to binary (0 or 1)\n",
        "\n",
        "# Print classification report\n",
        "print(\"\\nClassification Report:\\n\", classification_report(y_test, y_pred, target_names=[\"Pathological\", \"Normal\"]))\n"
      ],
      "metadata": {
        "colab": {
          "base_uri": "https://localhost:8080/"
        },
        "id": "OHhaj0eKJimz",
        "outputId": "87686486-d1d4-4e08-ee18-1d72ad40db45"
      },
      "execution_count": null,
      "outputs": [
        {
          "output_type": "stream",
          "name": "stdout",
          "text": [
            "\u001b[1m7/7\u001b[0m \u001b[32m━━━━━━━━━━━━━━━━━━━━\u001b[0m\u001b[37m\u001b[0m \u001b[1m1s\u001b[0m 85ms/step\n",
            "\n",
            "Classification Report:\n",
            "               precision    recall  f1-score   support\n",
            "\n",
            "Pathological       0.59      0.80      0.68       102\n",
            "      Normal       0.69      0.44      0.53       101\n",
            "\n",
            "    accuracy                           0.62       203\n",
            "   macro avg       0.64      0.62      0.61       203\n",
            "weighted avg       0.64      0.62      0.61       203\n",
            "\n"
          ]
        }
      ]
    }
  ]
}