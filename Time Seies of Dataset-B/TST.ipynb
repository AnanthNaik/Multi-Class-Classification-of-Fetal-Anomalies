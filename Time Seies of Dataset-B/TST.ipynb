{
  "nbformat": 4,
  "nbformat_minor": 0,
  "metadata": {
    "colab": {
      "provenance": []
    },
    "kernelspec": {
      "name": "python3",
      "display_name": "Python 3"
    },
    "language_info": {
      "name": "python"
    }
  },
  "cells": [
    {
      "cell_type": "code",
      "source": [
        "!pip install tensorflow"
      ],
      "metadata": {
        "colab": {
          "base_uri": "https://localhost:8080/"
        },
        "id": "kcXq8kHIQYbL",
        "outputId": "117fc5ba-2af6-4406-883c-9d4553404b74"
      },
      "execution_count": null,
      "outputs": [
        {
          "output_type": "stream",
          "name": "stdout",
          "text": [
            "Requirement already satisfied: tensorflow in /usr/local/lib/python3.11/dist-packages (2.18.0)\n",
            "Requirement already satisfied: absl-py>=1.0.0 in /usr/local/lib/python3.11/dist-packages (from tensorflow) (1.4.0)\n",
            "Requirement already satisfied: astunparse>=1.6.0 in /usr/local/lib/python3.11/dist-packages (from tensorflow) (1.6.3)\n",
            "Requirement already satisfied: flatbuffers>=24.3.25 in /usr/local/lib/python3.11/dist-packages (from tensorflow) (25.2.10)\n",
            "Requirement already satisfied: gast!=0.5.0,!=0.5.1,!=0.5.2,>=0.2.1 in /usr/local/lib/python3.11/dist-packages (from tensorflow) (0.6.0)\n",
            "Requirement already satisfied: google-pasta>=0.1.1 in /usr/local/lib/python3.11/dist-packages (from tensorflow) (0.2.0)\n",
            "Requirement already satisfied: libclang>=13.0.0 in /usr/local/lib/python3.11/dist-packages (from tensorflow) (18.1.1)\n",
            "Requirement already satisfied: opt-einsum>=2.3.2 in /usr/local/lib/python3.11/dist-packages (from tensorflow) (3.4.0)\n",
            "Requirement already satisfied: packaging in /usr/local/lib/python3.11/dist-packages (from tensorflow) (24.2)\n",
            "Requirement already satisfied: protobuf!=4.21.0,!=4.21.1,!=4.21.2,!=4.21.3,!=4.21.4,!=4.21.5,<6.0.0dev,>=3.20.3 in /usr/local/lib/python3.11/dist-packages (from tensorflow) (5.29.4)\n",
            "Requirement already satisfied: requests<3,>=2.21.0 in /usr/local/lib/python3.11/dist-packages (from tensorflow) (2.32.3)\n",
            "Requirement already satisfied: setuptools in /usr/local/lib/python3.11/dist-packages (from tensorflow) (75.1.0)\n",
            "Requirement already satisfied: six>=1.12.0 in /usr/local/lib/python3.11/dist-packages (from tensorflow) (1.17.0)\n",
            "Requirement already satisfied: termcolor>=1.1.0 in /usr/local/lib/python3.11/dist-packages (from tensorflow) (2.5.0)\n",
            "Requirement already satisfied: typing-extensions>=3.6.6 in /usr/local/lib/python3.11/dist-packages (from tensorflow) (4.12.2)\n",
            "Requirement already satisfied: wrapt>=1.11.0 in /usr/local/lib/python3.11/dist-packages (from tensorflow) (1.17.2)\n",
            "Requirement already satisfied: grpcio<2.0,>=1.24.3 in /usr/local/lib/python3.11/dist-packages (from tensorflow) (1.71.0)\n",
            "Requirement already satisfied: tensorboard<2.19,>=2.18 in /usr/local/lib/python3.11/dist-packages (from tensorflow) (2.18.0)\n",
            "Requirement already satisfied: keras>=3.5.0 in /usr/local/lib/python3.11/dist-packages (from tensorflow) (3.8.0)\n",
            "Requirement already satisfied: numpy<2.1.0,>=1.26.0 in /usr/local/lib/python3.11/dist-packages (from tensorflow) (2.0.2)\n",
            "Requirement already satisfied: h5py>=3.11.0 in /usr/local/lib/python3.11/dist-packages (from tensorflow) (3.13.0)\n",
            "Requirement already satisfied: ml-dtypes<0.5.0,>=0.4.0 in /usr/local/lib/python3.11/dist-packages (from tensorflow) (0.4.1)\n",
            "Requirement already satisfied: tensorflow-io-gcs-filesystem>=0.23.1 in /usr/local/lib/python3.11/dist-packages (from tensorflow) (0.37.1)\n",
            "Requirement already satisfied: wheel<1.0,>=0.23.0 in /usr/local/lib/python3.11/dist-packages (from astunparse>=1.6.0->tensorflow) (0.45.1)\n",
            "Requirement already satisfied: rich in /usr/local/lib/python3.11/dist-packages (from keras>=3.5.0->tensorflow) (13.9.4)\n",
            "Requirement already satisfied: namex in /usr/local/lib/python3.11/dist-packages (from keras>=3.5.0->tensorflow) (0.0.8)\n",
            "Requirement already satisfied: optree in /usr/local/lib/python3.11/dist-packages (from keras>=3.5.0->tensorflow) (0.14.1)\n",
            "Requirement already satisfied: charset-normalizer<4,>=2 in /usr/local/lib/python3.11/dist-packages (from requests<3,>=2.21.0->tensorflow) (3.4.1)\n",
            "Requirement already satisfied: idna<4,>=2.5 in /usr/local/lib/python3.11/dist-packages (from requests<3,>=2.21.0->tensorflow) (3.10)\n",
            "Requirement already satisfied: urllib3<3,>=1.21.1 in /usr/local/lib/python3.11/dist-packages (from requests<3,>=2.21.0->tensorflow) (2.3.0)\n",
            "Requirement already satisfied: certifi>=2017.4.17 in /usr/local/lib/python3.11/dist-packages (from requests<3,>=2.21.0->tensorflow) (2025.1.31)\n",
            "Requirement already satisfied: markdown>=2.6.8 in /usr/local/lib/python3.11/dist-packages (from tensorboard<2.19,>=2.18->tensorflow) (3.7)\n",
            "Requirement already satisfied: tensorboard-data-server<0.8.0,>=0.7.0 in /usr/local/lib/python3.11/dist-packages (from tensorboard<2.19,>=2.18->tensorflow) (0.7.2)\n",
            "Requirement already satisfied: werkzeug>=1.0.1 in /usr/local/lib/python3.11/dist-packages (from tensorboard<2.19,>=2.18->tensorflow) (3.1.3)\n",
            "Requirement already satisfied: MarkupSafe>=2.1.1 in /usr/local/lib/python3.11/dist-packages (from werkzeug>=1.0.1->tensorboard<2.19,>=2.18->tensorflow) (3.0.2)\n",
            "Requirement already satisfied: markdown-it-py>=2.2.0 in /usr/local/lib/python3.11/dist-packages (from rich->keras>=3.5.0->tensorflow) (3.0.0)\n",
            "Requirement already satisfied: pygments<3.0.0,>=2.13.0 in /usr/local/lib/python3.11/dist-packages (from rich->keras>=3.5.0->tensorflow) (2.18.0)\n",
            "Requirement already satisfied: mdurl~=0.1 in /usr/local/lib/python3.11/dist-packages (from markdown-it-py>=2.2.0->rich->keras>=3.5.0->tensorflow) (0.1.2)\n"
          ]
        }
      ]
    },
    {
      "cell_type": "code",
      "execution_count": null,
      "metadata": {
        "id": "6Zrq0XCMJm5y"
      },
      "outputs": [],
      "source": [
        "#Importing Libraries\n",
        "import os\n",
        "import numpy as np\n",
        "import pandas as pd\n",
        "import h5py\n",
        "import tensorflow as tf\n",
        "from tensorflow import keras\n",
        "from tensorflow.keras import layers, models\n",
        "from tensorflow.keras.layers import Input, LayerNormalization, MultiHeadAttention, Dense, Dropout, GlobalAveragePooling1D\n",
        "from sklearn.model_selection import train_test_split\n",
        "from sklearn.metrics import classification_report, accuracy_score\n",
        "from imblearn.over_sampling import SMOTE"
      ]
    },
    {
      "cell_type": "code",
      "source": [
        "# Dataset Paths\n",
        "data_folder = \"/content/drive/MyDrive/Design Lab/Database/signals\"\n",
        "ctu_df_path = \"/content/ctu_df.csv\""
      ],
      "metadata": {
        "id": "cdikuw7jFaUO"
      },
      "execution_count": null,
      "outputs": []
    },
    {
      "cell_type": "code",
      "source": [
        "# Parameters\n",
        "sequence_length = 1500\n",
        "feature_dim = 2"
      ],
      "metadata": {
        "id": "9z4zsMvbHPM4"
      },
      "execution_count": null,
      "outputs": []
    },
    {
      "cell_type": "code",
      "source": [
        "# Load annotation file\n",
        "ctu_df = pd.read_csv(ctu_df_path, dtype={'ID': str})  # Taking ID as a string\n",
        "valid_ids = set(ctu_df['ID'].values)"
      ],
      "metadata": {
        "id": "lcc-38OeHY9w"
      },
      "execution_count": null,
      "outputs": []
    },
    {
      "cell_type": "code",
      "source": [
        "X_list = []\n",
        "y_list = []"
      ],
      "metadata": {
        "id": "73-40OkmHZjC"
      },
      "execution_count": null,
      "outputs": []
    },
    {
      "cell_type": "code",
      "source": [
        "# Processing each CSV file(552 files)\n",
        "for file in sorted(os.listdir(data_folder)):\n",
        "    if file.endswith(\".csv\"):\n",
        "        file_id = file[:-4]  # Removing \".csv\" to get ID\n",
        "        if file_id not in valid_ids:\n",
        "            continue  # Skip files not in ctu_df\n",
        "\n",
        "        # Read CSV (only FHR, UC columns)\n",
        "        df = pd.read_csv(os.path.join(data_folder, file), usecols=['FHR', 'UC'])\n",
        "        df.dropna(inplace=True)\n",
        "\n",
        "        # Ensure enough data points\n",
        "        if len(df) < sequence_length:\n",
        "            print(f\"Skipping {file}, not enough data.\")\n",
        "            continue\n",
        "\n",
        "        # Select the first `sequence_length` rows\n",
        "        sequence = df.iloc[:sequence_length].values\n",
        "        X_list.append(sequence)\n",
        "\n",
        "        # Assign label from ctu_df\n",
        "        y_list.append(ctu_df.loc[ctu_df['ID'] == file_id, 'target'].values[0])\n"
      ],
      "metadata": {
        "id": "7mSVuLrUHbl5"
      },
      "execution_count": null,
      "outputs": []
    },
    {
      "cell_type": "code",
      "source": [
        "# Convert lists to NumPy arrays\n",
        "X = np.array(X_list, dtype=np.float32)\n",
        "y = np.array(y_list, dtype=np.int8)\n",
        "\n",
        "print(f\"Final input shape: {X.shape}\")  # Should be (552, sequence_length, 2)\n",
        "print(f\"Final output shape: {y.shape}\")  # Should be (552,)\n",
        "\n",
        "# Save for training\n",
        "np.save(\"X.npy\", X)\n",
        "np.save(\"y.npy\", y)"
      ],
      "metadata": {
        "colab": {
          "base_uri": "https://localhost:8080/"
        },
        "id": "ERGcxT9qHeMy",
        "outputId": "1666ef3b-d856-4876-c162-6356767c05d3"
      },
      "execution_count": null,
      "outputs": [
        {
          "output_type": "stream",
          "name": "stdout",
          "text": [
            "Final input shape: (552, 1500, 2)\n",
            "Final output shape: (552,)\n"
          ]
        }
      ]
    },
    {
      "cell_type": "code",
      "source": [
        "# Flatten X for SMOTE (Convert 3D -> 2D)\n",
        "n_samples, sequence_length, num_features = X.shape\n",
        "X_flat = X.reshape(n_samples, sequence_length * num_features)"
      ],
      "metadata": {
        "id": "bSGxhwKBNYa1"
      },
      "execution_count": null,
      "outputs": []
    },
    {
      "cell_type": "code",
      "source": [
        "# Apply SMOTE\n",
        "smote = SMOTE(sampling_strategy='auto', random_state=42)\n",
        "X_resampled, y_resampled = smote.fit_resample(X_flat, y)"
      ],
      "metadata": {
        "id": "nNgJMxCnNdW5"
      },
      "execution_count": null,
      "outputs": []
    },
    {
      "cell_type": "code",
      "source": [
        "# Reshape X back to 3D (time series format)\n",
        "X_resampled = X_resampled.reshape(-1, sequence_length, num_features)\n",
        "print(f\"Balanced dataset shape: {X_resampled.shape}, {y_resampled.shape}\")"
      ],
      "metadata": {
        "colab": {
          "base_uri": "https://localhost:8080/"
        },
        "id": "i8GgFJHlNk20",
        "outputId": "6c0bd9d4-03e5-46be-d626-90a533decbb3"
      },
      "execution_count": null,
      "outputs": [
        {
          "output_type": "stream",
          "name": "stdout",
          "text": [
            "Balanced dataset shape: (1012, 1500, 2), (1012,)\n"
          ]
        }
      ]
    },
    {
      "cell_type": "code",
      "source": [
        "# Train-test split (80% train, 20% test)\n",
        "X_train, X_test, y_train, y_test = train_test_split(X_resampled, y_resampled, test_size=0.2, random_state=42, stratify=y_resampled)"
      ],
      "metadata": {
        "id": "MMzR50L6I9DP"
      },
      "execution_count": null,
      "outputs": []
    },
    {
      "cell_type": "code",
      "source": [
        "# Hyperparameters\n",
        "sequence_length = X.shape[1]  # Number of time steps (e.g., 1500)\n",
        "num_features = X.shape[2]  # FHR and UC → 2 features\n",
        "embed_dim = 32  # Embedding size for attention\n",
        "num_heads = 4  # Multi-head attention\n",
        "ff_dim = 64  # Feed-forward layer size\n",
        "num_transformer_blocks = 2  # Number of Transformer blocks\n",
        "dropout_rate = 0.2  # Dropout for regularization"
      ],
      "metadata": {
        "id": "NXeisBopJAJX"
      },
      "execution_count": null,
      "outputs": []
    },
    {
      "cell_type": "code",
      "source": [
        "# Transformer Block\n",
        "def transformer_block(inputs, embed_dim, num_heads, ff_dim, dropout=0.2):\n",
        "    # Multi-Head Self-Attention\n",
        "    attention = layers.MultiHeadAttention(num_heads=num_heads, key_dim=embed_dim)(inputs, inputs)\n",
        "    attention = layers.Dropout(dropout)(attention)\n",
        "    attention = layers.LayerNormalization(epsilon=1e-6)(inputs + attention)\n",
        "\n",
        "    # Feed Forward Network\n",
        "    ffn = keras.Sequential([\n",
        "        layers.Dense(ff_dim, activation=\"relu\"),\n",
        "        layers.Dense(embed_dim)\n",
        "    ])\n",
        "    ffn_output = ffn(attention)\n",
        "    ffn_output = layers.Dropout(dropout)(ffn_output)\n",
        "    return layers.LayerNormalization(epsilon=1e-6)(attention + ffn_output)\n"
      ],
      "metadata": {
        "id": "TMSmDt6gJCvu"
      },
      "execution_count": null,
      "outputs": []
    },
    {
      "cell_type": "code",
      "source": [
        "# Build Transformer Model\n",
        "def build_transformer_model(sequence_length, num_features):\n",
        "    inputs = layers.Input(shape=(sequence_length, num_features))\n",
        "\n",
        "    # Project input to embedding space\n",
        "    x = layers.Dense(embed_dim)(inputs)\n",
        "\n",
        "    # Add positional encoding\n",
        "    positions = tf.range(start=0, limit=sequence_length, delta=1)\n",
        "    position_embeddings = layers.Embedding(input_dim=sequence_length, output_dim=embed_dim)(positions)\n",
        "    x += position_embeddings\n",
        "\n",
        "    # Transformer Blocks\n",
        "    for _ in range(num_transformer_blocks):\n",
        "        x = transformer_block(x, embed_dim, num_heads, ff_dim, dropout_rate)\n",
        "\n",
        "    # Global Average Pooling\n",
        "    x = layers.GlobalAveragePooling1D()(x)\n",
        "\n",
        "    # Final Classification Head\n",
        "    x = layers.Dense(32, activation=\"relu\")(x)\n",
        "    x = layers.Dropout(0.2)(x)\n",
        "    outputs = layers.Dense(1, activation=\"sigmoid\")(x)  # Binary classification (0 or 1)\n",
        "\n",
        "    return keras.Model(inputs, outputs, name=\"TimeSeriesTransformer\")\n",
        "\n"
      ],
      "metadata": {
        "id": "hQr6TnBeJFw8"
      },
      "execution_count": null,
      "outputs": []
    },
    {
      "cell_type": "code",
      "source": [
        "# Compile the model\n",
        "from tensorflow.keras import layers, models\n",
        "model = build_transformer_model(sequence_length, num_features)\n",
        "model.compile(optimizer=keras.optimizers.Adam(learning_rate=0.001),loss=\"binary_crossentropy\",metrics=[\"accuracy\"])"
      ],
      "metadata": {
        "id": "5vOK0xdbJJy1"
      },
      "execution_count": null,
      "outputs": []
    },
    {
      "cell_type": "code",
      "source": [
        "# Train Model\n",
        "history = model.fit(X_train, y_train, validation_data=(X_test, y_test), epochs=50, batch_size=16, verbose=1)"
      ],
      "metadata": {
        "colab": {
          "base_uri": "https://localhost:8080/"
        },
        "id": "O1ZV8idtJSKg",
        "outputId": "eebbc531-a1ac-4c07-b44b-820212527aa7"
      },
      "execution_count": null,
      "outputs": [
        {
          "output_type": "stream",
          "name": "stdout",
          "text": [
            "Epoch 1/50\n",
            "\u001b[1m51/51\u001b[0m \u001b[32m━━━━━━━━━━━━━━━━━━━━\u001b[0m\u001b[37m\u001b[0m \u001b[1m33s\u001b[0m 343ms/step - accuracy: 0.5241 - loss: 0.7182 - val_accuracy: 0.5616 - val_loss: 0.6694\n",
            "Epoch 2/50\n",
            "\u001b[1m51/51\u001b[0m \u001b[32m━━━━━━━━━━━━━━━━━━━━\u001b[0m\u001b[37m\u001b[0m \u001b[1m21s\u001b[0m 106ms/step - accuracy: 0.5995 - loss: 0.6601 - val_accuracy: 0.6650 - val_loss: 0.6404\n",
            "Epoch 3/50\n",
            "\u001b[1m51/51\u001b[0m \u001b[32m━━━━━━━━━━━━━━━━━━━━\u001b[0m\u001b[37m\u001b[0m \u001b[1m10s\u001b[0m 106ms/step - accuracy: 0.5896 - loss: 0.6665 - val_accuracy: 0.6995 - val_loss: 0.6148\n",
            "Epoch 4/50\n",
            "\u001b[1m51/51\u001b[0m \u001b[32m━━━━━━━━━━━━━━━━━━━━\u001b[0m\u001b[37m\u001b[0m \u001b[1m6s\u001b[0m 110ms/step - accuracy: 0.7120 - loss: 0.5972 - val_accuracy: 0.6502 - val_loss: 0.6056\n",
            "Epoch 5/50\n",
            "\u001b[1m51/51\u001b[0m \u001b[32m━━━━━━━━━━━━━━━━━━━━\u001b[0m\u001b[37m\u001b[0m \u001b[1m10s\u001b[0m 110ms/step - accuracy: 0.6409 - loss: 0.6146 - val_accuracy: 0.6650 - val_loss: 0.5808\n",
            "Epoch 6/50\n",
            "\u001b[1m51/51\u001b[0m \u001b[32m━━━━━━━━━━━━━━━━━━━━\u001b[0m\u001b[37m\u001b[0m \u001b[1m5s\u001b[0m 106ms/step - accuracy: 0.6648 - loss: 0.5877 - val_accuracy: 0.7044 - val_loss: 0.6002\n",
            "Epoch 7/50\n",
            "\u001b[1m51/51\u001b[0m \u001b[32m━━━━━━━━━━━━━━━━━━━━\u001b[0m\u001b[37m\u001b[0m \u001b[1m10s\u001b[0m 110ms/step - accuracy: 0.7127 - loss: 0.5750 - val_accuracy: 0.7143 - val_loss: 0.5719\n",
            "Epoch 8/50\n",
            "\u001b[1m51/51\u001b[0m \u001b[32m━━━━━━━━━━━━━━━━━━━━\u001b[0m\u001b[37m\u001b[0m \u001b[1m10s\u001b[0m 110ms/step - accuracy: 0.7258 - loss: 0.5474 - val_accuracy: 0.7143 - val_loss: 0.5535\n",
            "Epoch 9/50\n",
            "\u001b[1m51/51\u001b[0m \u001b[32m━━━━━━━━━━━━━━━━━━━━\u001b[0m\u001b[37m\u001b[0m \u001b[1m5s\u001b[0m 107ms/step - accuracy: 0.6903 - loss: 0.5672 - val_accuracy: 0.6995 - val_loss: 0.5844\n",
            "Epoch 10/50\n",
            "\u001b[1m51/51\u001b[0m \u001b[32m━━━━━━━━━━━━━━━━━━━━\u001b[0m\u001b[37m\u001b[0m \u001b[1m5s\u001b[0m 106ms/step - accuracy: 0.6919 - loss: 0.5739 - val_accuracy: 0.7241 - val_loss: 0.5053\n",
            "Epoch 11/50\n",
            "\u001b[1m51/51\u001b[0m \u001b[32m━━━━━━━━━━━━━━━━━━━━\u001b[0m\u001b[37m\u001b[0m \u001b[1m5s\u001b[0m 108ms/step - accuracy: 0.7343 - loss: 0.5571 - val_accuracy: 0.7438 - val_loss: 0.4910\n",
            "Epoch 12/50\n",
            "\u001b[1m51/51\u001b[0m \u001b[32m━━━━━━━━━━━━━━━━━━━━\u001b[0m\u001b[37m\u001b[0m \u001b[1m5s\u001b[0m 107ms/step - accuracy: 0.7389 - loss: 0.5483 - val_accuracy: 0.7685 - val_loss: 0.5156\n",
            "Epoch 13/50\n",
            "\u001b[1m51/51\u001b[0m \u001b[32m━━━━━━━━━━━━━━━━━━━━\u001b[0m\u001b[37m\u001b[0m \u001b[1m6s\u001b[0m 111ms/step - accuracy: 0.7506 - loss: 0.4819 - val_accuracy: 0.7488 - val_loss: 0.4978\n",
            "Epoch 14/50\n",
            "\u001b[1m51/51\u001b[0m \u001b[32m━━━━━━━━━━━━━━━━━━━━\u001b[0m\u001b[37m\u001b[0m \u001b[1m10s\u001b[0m 107ms/step - accuracy: 0.7717 - loss: 0.4888 - val_accuracy: 0.8128 - val_loss: 0.4682\n",
            "Epoch 15/50\n",
            "\u001b[1m51/51\u001b[0m \u001b[32m━━━━━━━━━━━━━━━━━━━━\u001b[0m\u001b[37m\u001b[0m \u001b[1m10s\u001b[0m 110ms/step - accuracy: 0.7797 - loss: 0.4793 - val_accuracy: 0.7734 - val_loss: 0.4489\n",
            "Epoch 16/50\n",
            "\u001b[1m51/51\u001b[0m \u001b[32m━━━━━━━━━━━━━━━━━━━━\u001b[0m\u001b[37m\u001b[0m \u001b[1m6s\u001b[0m 109ms/step - accuracy: 0.7790 - loss: 0.4863 - val_accuracy: 0.8227 - val_loss: 0.4161\n",
            "Epoch 17/50\n",
            "\u001b[1m51/51\u001b[0m \u001b[32m━━━━━━━━━━━━━━━━━━━━\u001b[0m\u001b[37m\u001b[0m \u001b[1m6s\u001b[0m 110ms/step - accuracy: 0.7662 - loss: 0.4722 - val_accuracy: 0.8079 - val_loss: 0.4327\n",
            "Epoch 18/50\n",
            "\u001b[1m51/51\u001b[0m \u001b[32m━━━━━━━━━━━━━━━━━━━━\u001b[0m\u001b[37m\u001b[0m \u001b[1m10s\u001b[0m 110ms/step - accuracy: 0.7727 - loss: 0.4708 - val_accuracy: 0.7783 - val_loss: 0.4203\n",
            "Epoch 19/50\n",
            "\u001b[1m51/51\u001b[0m \u001b[32m━━━━━━━━━━━━━━━━━━━━\u001b[0m\u001b[37m\u001b[0m \u001b[1m6s\u001b[0m 110ms/step - accuracy: 0.7889 - loss: 0.4345 - val_accuracy: 0.7438 - val_loss: 0.4896\n",
            "Epoch 20/50\n",
            "\u001b[1m51/51\u001b[0m \u001b[32m━━━━━━━━━━━━━━━━━━━━\u001b[0m\u001b[37m\u001b[0m \u001b[1m10s\u001b[0m 108ms/step - accuracy: 0.7838 - loss: 0.4574 - val_accuracy: 0.8374 - val_loss: 0.4015\n",
            "Epoch 21/50\n",
            "\u001b[1m51/51\u001b[0m \u001b[32m━━━━━━━━━━━━━━━━━━━━\u001b[0m\u001b[37m\u001b[0m \u001b[1m10s\u001b[0m 110ms/step - accuracy: 0.7891 - loss: 0.4647 - val_accuracy: 0.8374 - val_loss: 0.3974\n",
            "Epoch 22/50\n",
            "\u001b[1m51/51\u001b[0m \u001b[32m━━━━━━━━━━━━━━━━━━━━\u001b[0m\u001b[37m\u001b[0m \u001b[1m10s\u001b[0m 108ms/step - accuracy: 0.8197 - loss: 0.4154 - val_accuracy: 0.8227 - val_loss: 0.4196\n",
            "Epoch 23/50\n",
            "\u001b[1m51/51\u001b[0m \u001b[32m━━━━━━━━━━━━━━━━━━━━\u001b[0m\u001b[37m\u001b[0m \u001b[1m6s\u001b[0m 110ms/step - accuracy: 0.7826 - loss: 0.4600 - val_accuracy: 0.7488 - val_loss: 0.5085\n",
            "Epoch 24/50\n",
            "\u001b[1m51/51\u001b[0m \u001b[32m━━━━━━━━━━━━━━━━━━━━\u001b[0m\u001b[37m\u001b[0m \u001b[1m6s\u001b[0m 109ms/step - accuracy: 0.8128 - loss: 0.4446 - val_accuracy: 0.8276 - val_loss: 0.3827\n",
            "Epoch 25/50\n",
            "\u001b[1m51/51\u001b[0m \u001b[32m━━━━━━━━━━━━━━━━━━━━\u001b[0m\u001b[37m\u001b[0m \u001b[1m10s\u001b[0m 111ms/step - accuracy: 0.8154 - loss: 0.4273 - val_accuracy: 0.7833 - val_loss: 0.4169\n",
            "Epoch 26/50\n",
            "\u001b[1m51/51\u001b[0m \u001b[32m━━━━━━━━━━━━━━━━━━━━\u001b[0m\u001b[37m\u001b[0m \u001b[1m10s\u001b[0m 110ms/step - accuracy: 0.8098 - loss: 0.3889 - val_accuracy: 0.7882 - val_loss: 0.4254\n",
            "Epoch 27/50\n",
            "\u001b[1m51/51\u001b[0m \u001b[32m━━━━━━━━━━━━━━━━━━━━\u001b[0m\u001b[37m\u001b[0m \u001b[1m6s\u001b[0m 108ms/step - accuracy: 0.8058 - loss: 0.4107 - val_accuracy: 0.8128 - val_loss: 0.4609\n",
            "Epoch 28/50\n",
            "\u001b[1m51/51\u001b[0m \u001b[32m━━━━━━━━━━━━━━━━━━━━\u001b[0m\u001b[37m\u001b[0m \u001b[1m10s\u001b[0m 109ms/step - accuracy: 0.8013 - loss: 0.3954 - val_accuracy: 0.8424 - val_loss: 0.3973\n",
            "Epoch 29/50\n",
            "\u001b[1m51/51\u001b[0m \u001b[32m━━━━━━━━━━━━━━━━━━━━\u001b[0m\u001b[37m\u001b[0m \u001b[1m10s\u001b[0m 110ms/step - accuracy: 0.8144 - loss: 0.4015 - val_accuracy: 0.8079 - val_loss: 0.4797\n",
            "Epoch 30/50\n",
            "\u001b[1m51/51\u001b[0m \u001b[32m━━━━━━━━━━━━━━━━━━━━\u001b[0m\u001b[37m\u001b[0m \u001b[1m10s\u001b[0m 110ms/step - accuracy: 0.8170 - loss: 0.3658 - val_accuracy: 0.8227 - val_loss: 0.3986\n",
            "Epoch 31/50\n",
            "\u001b[1m51/51\u001b[0m \u001b[32m━━━━━━━━━━━━━━━━━━━━\u001b[0m\u001b[37m\u001b[0m \u001b[1m6s\u001b[0m 111ms/step - accuracy: 0.7976 - loss: 0.3986 - val_accuracy: 0.7734 - val_loss: 0.4347\n",
            "Epoch 32/50\n",
            "\u001b[1m51/51\u001b[0m \u001b[32m━━━━━━━━━━━━━━━━━━━━\u001b[0m\u001b[37m\u001b[0m \u001b[1m6s\u001b[0m 111ms/step - accuracy: 0.7745 - loss: 0.4225 - val_accuracy: 0.8079 - val_loss: 0.3916\n",
            "Epoch 33/50\n",
            "\u001b[1m51/51\u001b[0m \u001b[32m━━━━━━━━━━━━━━━━━━━━\u001b[0m\u001b[37m\u001b[0m \u001b[1m6s\u001b[0m 112ms/step - accuracy: 0.8304 - loss: 0.3592 - val_accuracy: 0.7931 - val_loss: 0.4498\n",
            "Epoch 34/50\n",
            "\u001b[1m51/51\u001b[0m \u001b[32m━━━━━━━━━━━━━━━━━━━━\u001b[0m\u001b[37m\u001b[0m \u001b[1m6s\u001b[0m 111ms/step - accuracy: 0.7972 - loss: 0.3736 - val_accuracy: 0.8276 - val_loss: 0.4100\n",
            "Epoch 35/50\n",
            "\u001b[1m51/51\u001b[0m \u001b[32m━━━━━━━━━━━━━━━━━━━━\u001b[0m\u001b[37m\u001b[0m \u001b[1m10s\u001b[0m 109ms/step - accuracy: 0.8259 - loss: 0.3557 - val_accuracy: 0.8227 - val_loss: 0.4103\n",
            "Epoch 36/50\n",
            "\u001b[1m51/51\u001b[0m \u001b[32m━━━━━━━━━━━━━━━━━━━━\u001b[0m\u001b[37m\u001b[0m \u001b[1m6s\u001b[0m 110ms/step - accuracy: 0.7869 - loss: 0.4647 - val_accuracy: 0.8276 - val_loss: 0.3990\n",
            "Epoch 37/50\n",
            "\u001b[1m51/51\u001b[0m \u001b[32m━━━━━━━━━━━━━━━━━━━━\u001b[0m\u001b[37m\u001b[0m \u001b[1m10s\u001b[0m 110ms/step - accuracy: 0.8166 - loss: 0.3939 - val_accuracy: 0.8424 - val_loss: 0.3761\n",
            "Epoch 38/50\n",
            "\u001b[1m51/51\u001b[0m \u001b[32m━━━━━━━━━━━━━━━━━━━━\u001b[0m\u001b[37m\u001b[0m \u001b[1m10s\u001b[0m 108ms/step - accuracy: 0.8561 - loss: 0.3256 - val_accuracy: 0.7931 - val_loss: 0.3955\n",
            "Epoch 39/50\n",
            "\u001b[1m51/51\u001b[0m \u001b[32m━━━━━━━━━━━━━━━━━━━━\u001b[0m\u001b[37m\u001b[0m \u001b[1m10s\u001b[0m 112ms/step - accuracy: 0.8095 - loss: 0.3680 - val_accuracy: 0.8128 - val_loss: 0.3738\n",
            "Epoch 40/50\n",
            "\u001b[1m51/51\u001b[0m \u001b[32m━━━━━━━━━━━━━━━━━━━━\u001b[0m\u001b[37m\u001b[0m \u001b[1m6s\u001b[0m 111ms/step - accuracy: 0.7326 - loss: 0.6532 - val_accuracy: 0.7931 - val_loss: 0.5143\n",
            "Epoch 41/50\n",
            "\u001b[1m51/51\u001b[0m \u001b[32m━━━━━━━━━━━━━━━━━━━━\u001b[0m\u001b[37m\u001b[0m \u001b[1m6s\u001b[0m 111ms/step - accuracy: 0.7904 - loss: 0.4302 - val_accuracy: 0.8227 - val_loss: 0.4130\n",
            "Epoch 42/50\n",
            "\u001b[1m51/51\u001b[0m \u001b[32m━━━━━━━━━━━━━━━━━━━━\u001b[0m\u001b[37m\u001b[0m \u001b[1m6s\u001b[0m 111ms/step - accuracy: 0.8443 - loss: 0.3388 - val_accuracy: 0.8325 - val_loss: 0.4152\n",
            "Epoch 43/50\n",
            "\u001b[1m51/51\u001b[0m \u001b[32m━━━━━━━━━━━━━━━━━━━━\u001b[0m\u001b[37m\u001b[0m \u001b[1m10s\u001b[0m 109ms/step - accuracy: 0.8171 - loss: 0.3790 - val_accuracy: 0.8177 - val_loss: 0.4059\n",
            "Epoch 44/50\n",
            "\u001b[1m51/51\u001b[0m \u001b[32m━━━━━━━━━━━━━━━━━━━━\u001b[0m\u001b[37m\u001b[0m \u001b[1m10s\u001b[0m 110ms/step - accuracy: 0.8462 - loss: 0.3327 - val_accuracy: 0.8325 - val_loss: 0.4123\n",
            "Epoch 45/50\n",
            "\u001b[1m51/51\u001b[0m \u001b[32m━━━━━━━━━━━━━━━━━━━━\u001b[0m\u001b[37m\u001b[0m \u001b[1m6s\u001b[0m 110ms/step - accuracy: 0.8394 - loss: 0.3344 - val_accuracy: 0.8227 - val_loss: 0.3940\n",
            "Epoch 46/50\n",
            "\u001b[1m51/51\u001b[0m \u001b[32m━━━━━━━━━━━━━━━━━━━━\u001b[0m\u001b[37m\u001b[0m \u001b[1m6s\u001b[0m 110ms/step - accuracy: 0.8090 - loss: 0.3788 - val_accuracy: 0.8571 - val_loss: 0.3873\n",
            "Epoch 47/50\n",
            "\u001b[1m51/51\u001b[0m \u001b[32m━━━━━━━━━━━━━━━━━━━━\u001b[0m\u001b[37m\u001b[0m \u001b[1m6s\u001b[0m 111ms/step - accuracy: 0.8486 - loss: 0.3408 - val_accuracy: 0.7931 - val_loss: 0.3909\n",
            "Epoch 48/50\n",
            "\u001b[1m51/51\u001b[0m \u001b[32m━━━━━━━━━━━━━━━━━━━━\u001b[0m\u001b[37m\u001b[0m \u001b[1m10s\u001b[0m 111ms/step - accuracy: 0.8194 - loss: 0.3870 - val_accuracy: 0.8177 - val_loss: 0.4346\n",
            "Epoch 49/50\n",
            "\u001b[1m51/51\u001b[0m \u001b[32m━━━━━━━━━━━━━━━━━━━━\u001b[0m\u001b[37m\u001b[0m \u001b[1m6s\u001b[0m 108ms/step - accuracy: 0.8303 - loss: 0.3771 - val_accuracy: 0.8177 - val_loss: 0.3846\n",
            "Epoch 50/50\n",
            "\u001b[1m51/51\u001b[0m \u001b[32m━━━━━━━━━━━━━━━━━━━━\u001b[0m\u001b[37m\u001b[0m \u001b[1m10s\u001b[0m 108ms/step - accuracy: 0.8311 - loss: 0.3511 - val_accuracy: 0.8325 - val_loss: 0.3859\n"
          ]
        }
      ]
    },
    {
      "cell_type": "code",
      "source": [
        "# Evaluating the model (Calculating the model Loss and Accuracy)\n",
        "loss, accuracy = model.evaluate(X_test, y_test)\n",
        "print(f\"Test Accuracy: {accuracy:.4f}\")"
      ],
      "metadata": {
        "colab": {
          "base_uri": "https://localhost:8080/"
        },
        "id": "l0o9D8PLJ2Qk",
        "outputId": "3f99fe93-8a79-4af6-b114-c853c622ca6a"
      },
      "execution_count": null,
      "outputs": [
        {
          "output_type": "stream",
          "name": "stdout",
          "text": [
            "\u001b[1m7/7\u001b[0m \u001b[32m━━━━━━━━━━━━━━━━━━━━\u001b[0m\u001b[37m\u001b[0m \u001b[1m3s\u001b[0m 71ms/step - accuracy: 0.8317 - loss: 0.3965\n",
            "Test Accuracy: 0.8325\n"
          ]
        }
      ]
    },
    {
      "cell_type": "code",
      "source": [
        "# Evaluate Model\n",
        "y_pred = (model.predict(X_test) > 0.5).astype(\"int32\")  # Convert probabilities to binary (0 or 1) # 1-->Normal, 0-->Pathological\n",
        "\n",
        "# Print classification report\n",
        "print(\"\\nClassification Report:\\n\", classification_report(y_test, y_pred))\n"
      ],
      "metadata": {
        "colab": {
          "base_uri": "https://localhost:8080/"
        },
        "id": "OHhaj0eKJimz",
        "outputId": "f1d66757-0031-4682-ca97-ba52dff7ca49"
      },
      "execution_count": null,
      "outputs": [
        {
          "output_type": "stream",
          "name": "stdout",
          "text": [
            "\u001b[1m7/7\u001b[0m \u001b[32m━━━━━━━━━━━━━━━━━━━━\u001b[0m\u001b[37m\u001b[0m \u001b[1m2s\u001b[0m 211ms/step\n",
            "\n",
            "Classification Report:\n",
            "               precision    recall  f1-score   support\n",
            "\n",
            "           0       0.78      0.93      0.85       102\n",
            "           1       0.91      0.73      0.81       101\n",
            "\n",
            "    accuracy                           0.83       203\n",
            "   macro avg       0.85      0.83      0.83       203\n",
            "weighted avg       0.85      0.83      0.83       203\n",
            "\n"
          ]
        }
      ]
    }
  ]
}