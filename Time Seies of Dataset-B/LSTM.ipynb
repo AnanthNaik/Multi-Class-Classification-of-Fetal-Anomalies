{
  "nbformat": 4,
  "nbformat_minor": 0,
  "metadata": {
    "colab": {
      "provenance": [],
      "gpuType": "T4"
    },
    "kernelspec": {
      "name": "python3",
      "display_name": "Python 3"
    },
    "language_info": {
      "name": "python"
    },
    "accelerator": "GPU"
  },
  "cells": [
    {
      "cell_type": "code",
      "source": [
        "!pip install tensorflow"
      ],
      "metadata": {
        "colab": {
          "base_uri": "https://localhost:8080/"
        },
        "id": "kcXq8kHIQYbL",
        "outputId": "d556c274-5fc7-43fa-a4e1-c1a85490c03e"
      },
      "execution_count": null,
      "outputs": [
        {
          "output_type": "stream",
          "name": "stdout",
          "text": [
            "Requirement already satisfied: tensorflow in /usr/local/lib/python3.11/dist-packages (2.18.0)\n",
            "Requirement already satisfied: absl-py>=1.0.0 in /usr/local/lib/python3.11/dist-packages (from tensorflow) (1.4.0)\n",
            "Requirement already satisfied: astunparse>=1.6.0 in /usr/local/lib/python3.11/dist-packages (from tensorflow) (1.6.3)\n",
            "Requirement already satisfied: flatbuffers>=24.3.25 in /usr/local/lib/python3.11/dist-packages (from tensorflow) (25.2.10)\n",
            "Requirement already satisfied: gast!=0.5.0,!=0.5.1,!=0.5.2,>=0.2.1 in /usr/local/lib/python3.11/dist-packages (from tensorflow) (0.6.0)\n",
            "Requirement already satisfied: google-pasta>=0.1.1 in /usr/local/lib/python3.11/dist-packages (from tensorflow) (0.2.0)\n",
            "Requirement already satisfied: libclang>=13.0.0 in /usr/local/lib/python3.11/dist-packages (from tensorflow) (18.1.1)\n",
            "Requirement already satisfied: opt-einsum>=2.3.2 in /usr/local/lib/python3.11/dist-packages (from tensorflow) (3.4.0)\n",
            "Requirement already satisfied: packaging in /usr/local/lib/python3.11/dist-packages (from tensorflow) (24.2)\n",
            "Requirement already satisfied: protobuf!=4.21.0,!=4.21.1,!=4.21.2,!=4.21.3,!=4.21.4,!=4.21.5,<6.0.0dev,>=3.20.3 in /usr/local/lib/python3.11/dist-packages (from tensorflow) (5.29.4)\n",
            "Requirement already satisfied: requests<3,>=2.21.0 in /usr/local/lib/python3.11/dist-packages (from tensorflow) (2.32.3)\n",
            "Requirement already satisfied: setuptools in /usr/local/lib/python3.11/dist-packages (from tensorflow) (75.1.0)\n",
            "Requirement already satisfied: six>=1.12.0 in /usr/local/lib/python3.11/dist-packages (from tensorflow) (1.17.0)\n",
            "Requirement already satisfied: termcolor>=1.1.0 in /usr/local/lib/python3.11/dist-packages (from tensorflow) (2.5.0)\n",
            "Requirement already satisfied: typing-extensions>=3.6.6 in /usr/local/lib/python3.11/dist-packages (from tensorflow) (4.12.2)\n",
            "Requirement already satisfied: wrapt>=1.11.0 in /usr/local/lib/python3.11/dist-packages (from tensorflow) (1.17.2)\n",
            "Requirement already satisfied: grpcio<2.0,>=1.24.3 in /usr/local/lib/python3.11/dist-packages (from tensorflow) (1.71.0)\n",
            "Requirement already satisfied: tensorboard<2.19,>=2.18 in /usr/local/lib/python3.11/dist-packages (from tensorflow) (2.18.0)\n",
            "Requirement already satisfied: keras>=3.5.0 in /usr/local/lib/python3.11/dist-packages (from tensorflow) (3.8.0)\n",
            "Requirement already satisfied: numpy<2.1.0,>=1.26.0 in /usr/local/lib/python3.11/dist-packages (from tensorflow) (2.0.2)\n",
            "Requirement already satisfied: h5py>=3.11.0 in /usr/local/lib/python3.11/dist-packages (from tensorflow) (3.13.0)\n",
            "Requirement already satisfied: ml-dtypes<0.5.0,>=0.4.0 in /usr/local/lib/python3.11/dist-packages (from tensorflow) (0.4.1)\n",
            "Requirement already satisfied: tensorflow-io-gcs-filesystem>=0.23.1 in /usr/local/lib/python3.11/dist-packages (from tensorflow) (0.37.1)\n",
            "Requirement already satisfied: wheel<1.0,>=0.23.0 in /usr/local/lib/python3.11/dist-packages (from astunparse>=1.6.0->tensorflow) (0.45.1)\n",
            "Requirement already satisfied: rich in /usr/local/lib/python3.11/dist-packages (from keras>=3.5.0->tensorflow) (13.9.4)\n",
            "Requirement already satisfied: namex in /usr/local/lib/python3.11/dist-packages (from keras>=3.5.0->tensorflow) (0.0.8)\n",
            "Requirement already satisfied: optree in /usr/local/lib/python3.11/dist-packages (from keras>=3.5.0->tensorflow) (0.14.1)\n",
            "Requirement already satisfied: charset-normalizer<4,>=2 in /usr/local/lib/python3.11/dist-packages (from requests<3,>=2.21.0->tensorflow) (3.4.1)\n",
            "Requirement already satisfied: idna<4,>=2.5 in /usr/local/lib/python3.11/dist-packages (from requests<3,>=2.21.0->tensorflow) (3.10)\n",
            "Requirement already satisfied: urllib3<3,>=1.21.1 in /usr/local/lib/python3.11/dist-packages (from requests<3,>=2.21.0->tensorflow) (2.3.0)\n",
            "Requirement already satisfied: certifi>=2017.4.17 in /usr/local/lib/python3.11/dist-packages (from requests<3,>=2.21.0->tensorflow) (2025.1.31)\n",
            "Requirement already satisfied: markdown>=2.6.8 in /usr/local/lib/python3.11/dist-packages (from tensorboard<2.19,>=2.18->tensorflow) (3.7)\n",
            "Requirement already satisfied: tensorboard-data-server<0.8.0,>=0.7.0 in /usr/local/lib/python3.11/dist-packages (from tensorboard<2.19,>=2.18->tensorflow) (0.7.2)\n",
            "Requirement already satisfied: werkzeug>=1.0.1 in /usr/local/lib/python3.11/dist-packages (from tensorboard<2.19,>=2.18->tensorflow) (3.1.3)\n",
            "Requirement already satisfied: MarkupSafe>=2.1.1 in /usr/local/lib/python3.11/dist-packages (from werkzeug>=1.0.1->tensorboard<2.19,>=2.18->tensorflow) (3.0.2)\n",
            "Requirement already satisfied: markdown-it-py>=2.2.0 in /usr/local/lib/python3.11/dist-packages (from rich->keras>=3.5.0->tensorflow) (3.0.0)\n",
            "Requirement already satisfied: pygments<3.0.0,>=2.13.0 in /usr/local/lib/python3.11/dist-packages (from rich->keras>=3.5.0->tensorflow) (2.18.0)\n",
            "Requirement already satisfied: mdurl~=0.1 in /usr/local/lib/python3.11/dist-packages (from markdown-it-py>=2.2.0->rich->keras>=3.5.0->tensorflow) (0.1.2)\n"
          ]
        }
      ]
    },
    {
      "cell_type": "code",
      "execution_count": null,
      "metadata": {
        "id": "6Zrq0XCMJm5y"
      },
      "outputs": [],
      "source": [
        "#Importing Libraries\n",
        "import os\n",
        "import numpy as np\n",
        "import pandas as pd\n",
        "import tensorflow as tf\n",
        "from tensorflow import keras\n",
        "from tensorflow.keras import layers, models\n",
        "from sklearn.model_selection import train_test_split\n",
        "from sklearn.metrics import classification_report, accuracy_score\n",
        "from imblearn.over_sampling import SMOTE"
      ]
    },
    {
      "cell_type": "code",
      "source": [
        "# Dataset Paths\n",
        "data_folder = \"/content/drive/MyDrive/Design Lab/Database/signals\"\n",
        "ctu_df_path = \"/content/drive/MyDrive/Design Lab/Database/ctu_df.csv\""
      ],
      "metadata": {
        "id": "cdikuw7jFaUO"
      },
      "execution_count": null,
      "outputs": []
    },
    {
      "cell_type": "code",
      "source": [
        "# Parameters\n",
        "sequence_length = 1500\n",
        "feature_dim = 2"
      ],
      "metadata": {
        "id": "9z4zsMvbHPM4"
      },
      "execution_count": null,
      "outputs": []
    },
    {
      "cell_type": "code",
      "source": [
        "# Load annotation file\n",
        "ctu_df = pd.read_csv(ctu_df_path, dtype={'ID': str})  # Taking ID as a string\n",
        "valid_ids = set(ctu_df['ID'].values)"
      ],
      "metadata": {
        "id": "lcc-38OeHY9w"
      },
      "execution_count": null,
      "outputs": []
    },
    {
      "cell_type": "code",
      "source": [
        "X_list = []\n",
        "y_list = []"
      ],
      "metadata": {
        "id": "73-40OkmHZjC"
      },
      "execution_count": null,
      "outputs": []
    },
    {
      "cell_type": "code",
      "source": [
        "# Processing each CSV file(552 files)\n",
        "for file in sorted(os.listdir(data_folder)):\n",
        "    if file.endswith(\".csv\"):\n",
        "        file_id = file[:-4]  # Removing \".csv\" to get ID\n",
        "        if file_id not in valid_ids:\n",
        "            continue  # Skip files not in ctu_df\n",
        "\n",
        "        # Read CSV (only FHR, UC columns)\n",
        "        df = pd.read_csv(os.path.join(data_folder, file), usecols=['FHR', 'UC'])\n",
        "        df.dropna(inplace=True)\n",
        "\n",
        "        # Ensure enough data points\n",
        "        if len(df) < sequence_length:\n",
        "            print(f\"Skipping {file}, not enough data.\")\n",
        "            continue\n",
        "\n",
        "        # Select the first `sequence_length` rows\n",
        "        sequence = df.iloc[:sequence_length].values\n",
        "        X_list.append(sequence)\n",
        "\n",
        "        # Assign label from ctu_df\n",
        "        y_list.append(ctu_df.loc[ctu_df['ID'] == file_id, 'target'].values[0])\n"
      ],
      "metadata": {
        "id": "7mSVuLrUHbl5"
      },
      "execution_count": null,
      "outputs": []
    },
    {
      "cell_type": "code",
      "source": [
        "# Convert lists to NumPy arrays\n",
        "X = np.array(X_list, dtype=np.float32)\n",
        "y = np.array(y_list, dtype=np.int8)\n",
        "\n",
        "print(f\"Final input shape: {X.shape}\")  # Should be (552, sequence_length, 2)\n",
        "print(f\"Final output shape: {y.shape}\")  # Should be (552,)\n",
        "\n",
        "# Save for training\n",
        "np.save(\"X.npy\", X)\n",
        "np.save(\"y.npy\", y)"
      ],
      "metadata": {
        "colab": {
          "base_uri": "https://localhost:8080/"
        },
        "id": "ERGcxT9qHeMy",
        "outputId": "2d8b99a0-a779-4fc5-b7c5-c7fdc5b8459c"
      },
      "execution_count": null,
      "outputs": [
        {
          "output_type": "stream",
          "name": "stdout",
          "text": [
            "Final input shape: (552, 1500, 2)\n",
            "Final output shape: (552,)\n"
          ]
        }
      ]
    },
    {
      "cell_type": "code",
      "source": [
        "# Flatten X for SMOTE (Convert 3D -> 2D)\n",
        "n_samples, sequence_length, num_features = X.shape\n",
        "X_flat = X.reshape(n_samples, sequence_length * num_features)"
      ],
      "metadata": {
        "id": "bSGxhwKBNYa1"
      },
      "execution_count": null,
      "outputs": []
    },
    {
      "cell_type": "code",
      "source": [
        "# Apply SMOTE\n",
        "smote = SMOTE(sampling_strategy='auto', random_state=42)\n",
        "X_resampled, y_resampled = smote.fit_resample(X_flat, y)"
      ],
      "metadata": {
        "id": "nNgJMxCnNdW5"
      },
      "execution_count": null,
      "outputs": []
    },
    {
      "cell_type": "code",
      "source": [
        "# Reshape X back to 3D (time series format)\n",
        "X_resampled = X_resampled.reshape(-1, sequence_length, num_features)\n",
        "print(f\"Balanced dataset shape: {X_resampled.shape}, {y_resampled.shape}\")"
      ],
      "metadata": {
        "colab": {
          "base_uri": "https://localhost:8080/"
        },
        "id": "i8GgFJHlNk20",
        "outputId": "f9c03388-4b63-41f6-faa7-eb3484d585e7"
      },
      "execution_count": null,
      "outputs": [
        {
          "output_type": "stream",
          "name": "stdout",
          "text": [
            "Balanced dataset shape: (1012, 1500, 2), (1012,)\n"
          ]
        }
      ]
    },
    {
      "cell_type": "code",
      "source": [
        "# Train-test split (80% train, 20% test)\n",
        "X_train, X_test, y_train, y_test = train_test_split(X_resampled, y_resampled, test_size=0.2, random_state=42, stratify=y_resampled)"
      ],
      "metadata": {
        "id": "MMzR50L6I9DP"
      },
      "execution_count": null,
      "outputs": []
    },
    {
      "cell_type": "code",
      "source": [
        "# LSTM Model\n",
        "def build_lstm_model(sequence_length, num_features):\n",
        "    model = keras.Sequential([\n",
        "        layers.Input(shape=(sequence_length, num_features)),\n",
        "        layers.LSTM(64, return_sequences=True),\n",
        "        layers.LSTM(32),\n",
        "        layers.Dense(32, activation=\"relu\"),\n",
        "        layers.Dropout(0.2),\n",
        "        layers.Dense(1, activation=\"sigmoid\")  # Binary classification\n",
        "    ])\n",
        "    return model"
      ],
      "metadata": {
        "id": "TMSmDt6gJCvu"
      },
      "execution_count": null,
      "outputs": []
    },
    {
      "cell_type": "code",
      "source": [
        "# Compiling the model\n",
        "model = build_lstm_model(sequence_length, num_features)\n",
        "model.compile(optimizer=keras.optimizers.Adam(learning_rate=0.001), loss=\"binary_crossentropy\", metrics=[\"accuracy\"])"
      ],
      "metadata": {
        "id": "5vOK0xdbJJy1"
      },
      "execution_count": null,
      "outputs": []
    },
    {
      "cell_type": "code",
      "source": [
        "# Train Model\n",
        "history = model.fit(X_train, y_train, validation_data=(X_test, y_test), epochs=50, batch_size=16, verbose=1)"
      ],
      "metadata": {
        "colab": {
          "base_uri": "https://localhost:8080/"
        },
        "id": "O1ZV8idtJSKg",
        "outputId": "751d274b-3841-4997-e479-eb3abe181c08"
      },
      "execution_count": null,
      "outputs": [
        {
          "output_type": "stream",
          "name": "stdout",
          "text": [
            "Epoch 1/50\n",
            "\u001b[1m51/51\u001b[0m \u001b[32m━━━━━━━━━━━━━━━━━━━━\u001b[0m\u001b[37m\u001b[0m \u001b[1m10s\u001b[0m 103ms/step - accuracy: 0.5804 - loss: 0.6777 - val_accuracy: 0.6749 - val_loss: 0.5932\n",
            "Epoch 2/50\n",
            "\u001b[1m51/51\u001b[0m \u001b[32m━━━━━━━━━━━━━━━━━━━━\u001b[0m\u001b[37m\u001b[0m \u001b[1m7s\u001b[0m 81ms/step - accuracy: 0.7212 - loss: 0.5503 - val_accuracy: 0.6798 - val_loss: 0.5660\n",
            "Epoch 3/50\n",
            "\u001b[1m51/51\u001b[0m \u001b[32m━━━━━━━━━━━━━━━━━━━━\u001b[0m\u001b[37m\u001b[0m \u001b[1m4s\u001b[0m 86ms/step - accuracy: 0.7498 - loss: 0.4855 - val_accuracy: 0.7438 - val_loss: 0.4650\n",
            "Epoch 4/50\n",
            "\u001b[1m51/51\u001b[0m \u001b[32m━━━━━━━━━━━━━━━━━━━━\u001b[0m\u001b[37m\u001b[0m \u001b[1m5s\u001b[0m 91ms/step - accuracy: 0.7554 - loss: 0.4746 - val_accuracy: 0.7291 - val_loss: 0.4793\n",
            "Epoch 5/50\n",
            "\u001b[1m51/51\u001b[0m \u001b[32m━━━━━━━━━━━━━━━━━━━━\u001b[0m\u001b[37m\u001b[0m \u001b[1m4s\u001b[0m 77ms/step - accuracy: 0.7488 - loss: 0.4617 - val_accuracy: 0.7537 - val_loss: 0.4735\n",
            "Epoch 6/50\n",
            "\u001b[1m51/51\u001b[0m \u001b[32m━━━━━━━━━━━━━━━━━━━━\u001b[0m\u001b[37m\u001b[0m \u001b[1m6s\u001b[0m 96ms/step - accuracy: 0.7592 - loss: 0.4508 - val_accuracy: 0.7586 - val_loss: 0.4718\n",
            "Epoch 7/50\n",
            "\u001b[1m51/51\u001b[0m \u001b[32m━━━━━━━━━━━━━━━━━━━━\u001b[0m\u001b[37m\u001b[0m \u001b[1m4s\u001b[0m 76ms/step - accuracy: 0.8231 - loss: 0.3953 - val_accuracy: 0.7734 - val_loss: 0.4520\n",
            "Epoch 8/50\n",
            "\u001b[1m51/51\u001b[0m \u001b[32m━━━━━━━━━━━━━━━━━━━━\u001b[0m\u001b[37m\u001b[0m \u001b[1m4s\u001b[0m 80ms/step - accuracy: 0.8085 - loss: 0.4254 - val_accuracy: 0.7783 - val_loss: 0.4555\n",
            "Epoch 9/50\n",
            "\u001b[1m51/51\u001b[0m \u001b[32m━━━━━━━━━━━━━━━━━━━━\u001b[0m\u001b[37m\u001b[0m \u001b[1m6s\u001b[0m 97ms/step - accuracy: 0.8100 - loss: 0.4250 - val_accuracy: 0.7488 - val_loss: 0.4789\n",
            "Epoch 10/50\n",
            "\u001b[1m51/51\u001b[0m \u001b[32m━━━━━━━━━━━━━━━━━━━━\u001b[0m\u001b[37m\u001b[0m \u001b[1m4s\u001b[0m 78ms/step - accuracy: 0.7910 - loss: 0.4101 - val_accuracy: 0.7783 - val_loss: 0.4104\n",
            "Epoch 11/50\n",
            "\u001b[1m51/51\u001b[0m \u001b[32m━━━━━━━━━━━━━━━━━━━━\u001b[0m\u001b[37m\u001b[0m \u001b[1m5s\u001b[0m 74ms/step - accuracy: 0.7763 - loss: 0.4180 - val_accuracy: 0.7537 - val_loss: 0.4816\n",
            "Epoch 12/50\n",
            "\u001b[1m51/51\u001b[0m \u001b[32m━━━━━━━━━━━━━━━━━━━━\u001b[0m\u001b[37m\u001b[0m \u001b[1m5s\u001b[0m 89ms/step - accuracy: 0.7718 - loss: 0.4228 - val_accuracy: 0.7241 - val_loss: 0.5099\n",
            "Epoch 13/50\n",
            "\u001b[1m51/51\u001b[0m \u001b[32m━━━━━━━━━━━━━━━━━━━━\u001b[0m\u001b[37m\u001b[0m \u001b[1m4s\u001b[0m 79ms/step - accuracy: 0.7881 - loss: 0.4144 - val_accuracy: 0.7783 - val_loss: 0.4329\n",
            "Epoch 14/50\n",
            "\u001b[1m51/51\u001b[0m \u001b[32m━━━━━━━━━━━━━━━━━━━━\u001b[0m\u001b[37m\u001b[0m \u001b[1m5s\u001b[0m 80ms/step - accuracy: 0.8100 - loss: 0.3848 - val_accuracy: 0.7783 - val_loss: 0.4333\n",
            "Epoch 15/50\n",
            "\u001b[1m51/51\u001b[0m \u001b[32m━━━━━━━━━━━━━━━━━━━━\u001b[0m\u001b[37m\u001b[0m \u001b[1m5s\u001b[0m 91ms/step - accuracy: 0.7899 - loss: 0.4116 - val_accuracy: 0.7833 - val_loss: 0.4586\n",
            "Epoch 16/50\n",
            "\u001b[1m51/51\u001b[0m \u001b[32m━━━━━━━━━━━━━━━━━━━━\u001b[0m\u001b[37m\u001b[0m \u001b[1m4s\u001b[0m 75ms/step - accuracy: 0.8291 - loss: 0.3621 - val_accuracy: 0.7783 - val_loss: 0.4345\n",
            "Epoch 17/50\n",
            "\u001b[1m51/51\u001b[0m \u001b[32m━━━━━━━━━━━━━━━━━━━━\u001b[0m\u001b[37m\u001b[0m \u001b[1m6s\u001b[0m 94ms/step - accuracy: 0.8035 - loss: 0.3981 - val_accuracy: 0.7882 - val_loss: 0.4258\n",
            "Epoch 18/50\n",
            "\u001b[1m51/51\u001b[0m \u001b[32m━━━━━━━━━━━━━━━━━━━━\u001b[0m\u001b[37m\u001b[0m \u001b[1m4s\u001b[0m 80ms/step - accuracy: 0.8362 - loss: 0.3523 - val_accuracy: 0.7685 - val_loss: 0.4552\n",
            "Epoch 19/50\n",
            "\u001b[1m51/51\u001b[0m \u001b[32m━━━━━━━━━━━━━━━━━━━━\u001b[0m\u001b[37m\u001b[0m \u001b[1m4s\u001b[0m 84ms/step - accuracy: 0.8108 - loss: 0.3688 - val_accuracy: 0.7783 - val_loss: 0.4625\n",
            "Epoch 20/50\n",
            "\u001b[1m51/51\u001b[0m \u001b[32m━━━━━━━━━━━━━━━━━━━━\u001b[0m\u001b[37m\u001b[0m \u001b[1m6s\u001b[0m 95ms/step - accuracy: 0.8085 - loss: 0.3634 - val_accuracy: 0.7882 - val_loss: 0.4076\n",
            "Epoch 21/50\n",
            "\u001b[1m51/51\u001b[0m \u001b[32m━━━━━━━━━━━━━━━━━━━━\u001b[0m\u001b[37m\u001b[0m \u001b[1m4s\u001b[0m 80ms/step - accuracy: 0.8077 - loss: 0.3593 - val_accuracy: 0.7783 - val_loss: 0.4290\n",
            "Epoch 22/50\n",
            "\u001b[1m51/51\u001b[0m \u001b[32m━━━━━━━━━━━━━━━━━━━━\u001b[0m\u001b[37m\u001b[0m \u001b[1m4s\u001b[0m 74ms/step - accuracy: 0.8007 - loss: 0.3921 - val_accuracy: 0.7734 - val_loss: 0.4123\n",
            "Epoch 23/50\n",
            "\u001b[1m51/51\u001b[0m \u001b[32m━━━━━━━━━━━━━━━━━━━━\u001b[0m\u001b[37m\u001b[0m \u001b[1m5s\u001b[0m 93ms/step - accuracy: 0.8064 - loss: 0.3595 - val_accuracy: 0.7931 - val_loss: 0.4073\n",
            "Epoch 24/50\n",
            "\u001b[1m51/51\u001b[0m \u001b[32m━━━━━━━━━━━━━━━━━━━━\u001b[0m\u001b[37m\u001b[0m \u001b[1m4s\u001b[0m 74ms/step - accuracy: 0.8156 - loss: 0.3428 - val_accuracy: 0.7734 - val_loss: 0.4213\n",
            "Epoch 25/50\n",
            "\u001b[1m51/51\u001b[0m \u001b[32m━━━━━━━━━━━━━━━━━━━━\u001b[0m\u001b[37m\u001b[0m \u001b[1m4s\u001b[0m 79ms/step - accuracy: 0.8176 - loss: 0.3510 - val_accuracy: 0.7685 - val_loss: 0.4446\n",
            "Epoch 26/50\n",
            "\u001b[1m51/51\u001b[0m \u001b[32m━━━━━━━━━━━━━━━━━━━━\u001b[0m\u001b[37m\u001b[0m \u001b[1m6s\u001b[0m 98ms/step - accuracy: 0.7908 - loss: 0.4621 - val_accuracy: 0.7882 - val_loss: 0.4210\n",
            "Epoch 27/50\n",
            "\u001b[1m51/51\u001b[0m \u001b[32m━━━━━━━━━━━━━━━━━━━━\u001b[0m\u001b[37m\u001b[0m \u001b[1m4s\u001b[0m 78ms/step - accuracy: 0.7877 - loss: 0.3643 - val_accuracy: 0.7734 - val_loss: 0.4377\n",
            "Epoch 28/50\n",
            "\u001b[1m51/51\u001b[0m \u001b[32m━━━━━━━━━━━━━━━━━━━━\u001b[0m\u001b[37m\u001b[0m \u001b[1m4s\u001b[0m 79ms/step - accuracy: 0.7882 - loss: 0.3960 - val_accuracy: 0.7783 - val_loss: 0.4368\n",
            "Epoch 29/50\n",
            "\u001b[1m51/51\u001b[0m \u001b[32m━━━━━━━━━━━━━━━━━━━━\u001b[0m\u001b[37m\u001b[0m \u001b[1m6s\u001b[0m 94ms/step - accuracy: 0.8211 - loss: 0.3467 - val_accuracy: 0.7882 - val_loss: 0.4325\n",
            "Epoch 30/50\n",
            "\u001b[1m51/51\u001b[0m \u001b[32m━━━━━━━━━━━━━━━━━━━━\u001b[0m\u001b[37m\u001b[0m \u001b[1m4s\u001b[0m 79ms/step - accuracy: 0.8155 - loss: 0.3407 - val_accuracy: 0.7685 - val_loss: 0.4630\n",
            "Epoch 31/50\n",
            "\u001b[1m51/51\u001b[0m \u001b[32m━━━━━━━━━━━━━━━━━━━━\u001b[0m\u001b[37m\u001b[0m \u001b[1m4s\u001b[0m 78ms/step - accuracy: 0.7950 - loss: 0.4032 - val_accuracy: 0.7931 - val_loss: 0.4604\n",
            "Epoch 32/50\n",
            "\u001b[1m51/51\u001b[0m \u001b[32m━━━━━━━━━━━━━━━━━━━━\u001b[0m\u001b[37m\u001b[0m \u001b[1m5s\u001b[0m 79ms/step - accuracy: 0.8368 - loss: 0.3312 - val_accuracy: 0.7882 - val_loss: 0.4184\n",
            "Epoch 33/50\n",
            "\u001b[1m51/51\u001b[0m \u001b[32m━━━━━━━━━━━━━━━━━━━━\u001b[0m\u001b[37m\u001b[0m \u001b[1m5s\u001b[0m 74ms/step - accuracy: 0.8272 - loss: 0.3321 - val_accuracy: 0.7980 - val_loss: 0.4177\n",
            "Epoch 34/50\n",
            "\u001b[1m51/51\u001b[0m \u001b[32m━━━━━━━━━━━━━━━━━━━━\u001b[0m\u001b[37m\u001b[0m \u001b[1m5s\u001b[0m 91ms/step - accuracy: 0.8226 - loss: 0.3462 - val_accuracy: 0.7931 - val_loss: 0.4418\n",
            "Epoch 35/50\n",
            "\u001b[1m51/51\u001b[0m \u001b[32m━━━━━━━━━━━━━━━━━━━━\u001b[0m\u001b[37m\u001b[0m \u001b[1m4s\u001b[0m 82ms/step - accuracy: 0.8172 - loss: 0.3303 - val_accuracy: 0.7783 - val_loss: 0.4694\n",
            "Epoch 36/50\n",
            "\u001b[1m51/51\u001b[0m \u001b[32m━━━━━━━━━━━━━━━━━━━━\u001b[0m\u001b[37m\u001b[0m \u001b[1m4s\u001b[0m 80ms/step - accuracy: 0.8304 - loss: 0.3501 - val_accuracy: 0.7833 - val_loss: 0.4572\n",
            "Epoch 37/50\n",
            "\u001b[1m51/51\u001b[0m \u001b[32m━━━━━━━━━━━━━━━━━━━━\u001b[0m\u001b[37m\u001b[0m \u001b[1m5s\u001b[0m 89ms/step - accuracy: 0.8085 - loss: 0.3478 - val_accuracy: 0.7882 - val_loss: 0.4505\n",
            "Epoch 38/50\n",
            "\u001b[1m51/51\u001b[0m \u001b[32m━━━━━━━━━━━━━━━━━━━━\u001b[0m\u001b[37m\u001b[0m \u001b[1m4s\u001b[0m 78ms/step - accuracy: 0.8160 - loss: 0.3294 - val_accuracy: 0.7833 - val_loss: 0.4661\n",
            "Epoch 39/50\n",
            "\u001b[1m51/51\u001b[0m \u001b[32m━━━━━━━━━━━━━━━━━━━━\u001b[0m\u001b[37m\u001b[0m \u001b[1m4s\u001b[0m 80ms/step - accuracy: 0.8264 - loss: 0.3415 - val_accuracy: 0.7734 - val_loss: 0.4507\n",
            "Epoch 40/50\n",
            "\u001b[1m51/51\u001b[0m \u001b[32m━━━━━━━━━━━━━━━━━━━━\u001b[0m\u001b[37m\u001b[0m \u001b[1m6s\u001b[0m 95ms/step - accuracy: 0.8264 - loss: 0.3545 - val_accuracy: 0.7882 - val_loss: 0.4332\n",
            "Epoch 41/50\n",
            "\u001b[1m51/51\u001b[0m \u001b[32m━━━━━━━━━━━━━━━━━━━━\u001b[0m\u001b[37m\u001b[0m \u001b[1m4s\u001b[0m 79ms/step - accuracy: 0.8204 - loss: 0.3736 - val_accuracy: 0.7833 - val_loss: 0.4594\n",
            "Epoch 42/50\n",
            "\u001b[1m51/51\u001b[0m \u001b[32m━━━━━━━━━━━━━━━━━━━━\u001b[0m\u001b[37m\u001b[0m \u001b[1m4s\u001b[0m 76ms/step - accuracy: 0.8121 - loss: 0.3427 - val_accuracy: 0.8276 - val_loss: 0.3976\n",
            "Epoch 43/50\n",
            "\u001b[1m51/51\u001b[0m \u001b[32m━━━━━━━━━━━━━━━━━━━━\u001b[0m\u001b[37m\u001b[0m \u001b[1m7s\u001b[0m 131ms/step - accuracy: 0.8418 - loss: 0.3420 - val_accuracy: 0.7931 - val_loss: 0.4122\n",
            "Epoch 44/50\n",
            "\u001b[1m51/51\u001b[0m \u001b[32m━━━━━━━━━━━━━━━━━━━━\u001b[0m\u001b[37m\u001b[0m \u001b[1m13s\u001b[0m 191ms/step - accuracy: 0.8292 - loss: 0.3193 - val_accuracy: 0.8079 - val_loss: 0.4181\n",
            "Epoch 45/50\n",
            "\u001b[1m51/51\u001b[0m \u001b[32m━━━━━━━━━━━━━━━━━━━━\u001b[0m\u001b[37m\u001b[0m \u001b[1m4s\u001b[0m 77ms/step - accuracy: 0.8505 - loss: 0.3366 - val_accuracy: 0.8030 - val_loss: 0.4326\n",
            "Epoch 46/50\n",
            "\u001b[1m51/51\u001b[0m \u001b[32m━━━━━━━━━━━━━━━━━━━━\u001b[0m\u001b[37m\u001b[0m \u001b[1m4s\u001b[0m 75ms/step - accuracy: 0.8395 - loss: 0.3222 - val_accuracy: 0.7931 - val_loss: 0.4152\n",
            "Epoch 47/50\n",
            "\u001b[1m51/51\u001b[0m \u001b[32m━━━━━━━━━━━━━━━━━━━━\u001b[0m\u001b[37m\u001b[0m \u001b[1m7s\u001b[0m 142ms/step - accuracy: 0.8108 - loss: 0.3859 - val_accuracy: 0.7882 - val_loss: 0.4304\n",
            "Epoch 48/50\n",
            "\u001b[1m51/51\u001b[0m \u001b[32m━━━━━━━━━━━━━━━━━━━━\u001b[0m\u001b[37m\u001b[0m \u001b[1m7s\u001b[0m 76ms/step - accuracy: 0.8604 - loss: 0.3322 - val_accuracy: 0.7833 - val_loss: 0.4440\n",
            "Epoch 49/50\n",
            "\u001b[1m51/51\u001b[0m \u001b[32m━━━━━━━━━━━━━━━━━━━━\u001b[0m\u001b[37m\u001b[0m \u001b[1m6s\u001b[0m 85ms/step - accuracy: 0.8066 - loss: 0.3301 - val_accuracy: 0.7931 - val_loss: 0.4434\n",
            "Epoch 50/50\n",
            "\u001b[1m51/51\u001b[0m \u001b[32m━━━━━━━━━━━━━━━━━━━━\u001b[0m\u001b[37m\u001b[0m \u001b[1m4s\u001b[0m 75ms/step - accuracy: 0.8198 - loss: 0.3595 - val_accuracy: 0.7586 - val_loss: 0.4658\n"
          ]
        }
      ]
    },
    {
      "cell_type": "code",
      "source": [
        "# Evaluating the model (Calculating the model Loss and Accuracy)\n",
        "loss, accuracy = model.evaluate(X_test, y_test)\n",
        "print(f\"Test Accuracy: {accuracy:.4f}\")"
      ],
      "metadata": {
        "colab": {
          "base_uri": "https://localhost:8080/"
        },
        "id": "l0o9D8PLJ2Qk",
        "outputId": "7e3776f1-8cf1-4467-e9de-b4943dcad24d"
      },
      "execution_count": null,
      "outputs": [
        {
          "output_type": "stream",
          "name": "stdout",
          "text": [
            "\u001b[1m7/7\u001b[0m \u001b[32m━━━━━━━━━━━━━━━━━━━━\u001b[0m\u001b[37m\u001b[0m \u001b[1m0s\u001b[0m 53ms/step - accuracy: 0.7516 - loss: 0.4322\n",
            "Test Accuracy: 0.7586\n"
          ]
        }
      ]
    },
    {
      "cell_type": "code",
      "source": [
        "# Evaluate Model\n",
        "y_pred = (model.predict(X_test) > 0.5).astype(\"int32\")  # Convert probabilities to binary (0 or 1)\n",
        "\n",
        "# Print classification report\n",
        "print(\"\\nClassification Report:\\n\", classification_report(y_test, y_pred, target_names=[\"Pathological\", \"Normal\"]))\n"
      ],
      "metadata": {
        "colab": {
          "base_uri": "https://localhost:8080/"
        },
        "id": "OHhaj0eKJimz",
        "outputId": "12f3f18f-bb92-427f-c1fd-9c27ca51a44e"
      },
      "execution_count": null,
      "outputs": [
        {
          "output_type": "stream",
          "name": "stdout",
          "text": [
            "\u001b[1m7/7\u001b[0m \u001b[32m━━━━━━━━━━━━━━━━━━━━\u001b[0m\u001b[37m\u001b[0m \u001b[1m1s\u001b[0m 78ms/step\n",
            "\n",
            "Classification Report:\n",
            "               precision    recall  f1-score   support\n",
            "\n",
            "Pathological       0.73      0.81      0.77       102\n",
            "      Normal       0.79      0.70      0.74       101\n",
            "\n",
            "    accuracy                           0.76       203\n",
            "   macro avg       0.76      0.76      0.76       203\n",
            "weighted avg       0.76      0.76      0.76       203\n",
            "\n"
          ]
        }
      ]
    }
  ]
}